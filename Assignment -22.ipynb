{
 "cells": [
  {
   "cell_type": "markdown",
   "id": "bfa3f88a",
   "metadata": {},
   "source": [
    "# Assignment - 22"
   ]
  },
  {
   "cell_type": "markdown",
   "id": "6c60126a",
   "metadata": {},
   "source": [
    "# 1. What is the result of the code, and explain?\n",
    "\n",
    "&gt;&gt;&gt; X = &#39;iNeuron&#39;\n",
    "\n",
    "&gt;&gt;&gt; def func():\n",
    "    \n",
    "print(X)\n",
    "\n",
    "\n",
    "&gt;&gt;&gt; func()"
   ]
  },
  {
   "cell_type": "code",
   "execution_count": null,
   "id": "46660eb4",
   "metadata": {},
   "outputs": [],
   "source": [
    "The result of the code will be:\n",
    "\n",
    "'iNeuron'\n",
    "\n",
    "Explanation:\n",
    "\n",
    "The code defines a variable X and assigns it the value 'iNeuron'.\n",
    "\n",
    "It then defines a function named func().\n",
    "\n",
    "Inside the function, it prints the value of the variable X.\n",
    "\n",
    "Finally, it calls the function func()."
   ]
  },
  {
   "cell_type": "markdown",
   "id": "1ac7fe27",
   "metadata": {},
   "source": [
    "# 2. What is the result of the code, and explain?\n",
    "\n",
    "&gt;&gt;&gt; X = &#39;iNeuron&#39;\n",
    "&gt;&gt;&gt; def func():\n",
    "X = &#39;NI!&#39;\n",
    "\n",
    "&gt;&gt;&gt; func()\n",
    "&gt;&gt;&gt; print(X)"
   ]
  },
  {
   "cell_type": "code",
   "execution_count": null,
   "id": "f24ce5d0",
   "metadata": {},
   "outputs": [],
   "source": [
    "The result of the code will be:\n",
    "\n",
    "'iNeuron'\n",
    "\n",
    "Explanation:\n",
    "\n",
    "The code defines a variable X and assigns it the value 'iNeuron'.\n",
    "It then defines a function named func().\n",
    "Inside the function, it assigns a new value 'NI!' to a local variable X. This creates a new local variable X within the scope of the function, which is separate from the global variable X.\n",
    "The function func() is called, but it doesn't return any value or perform any actions that would affect the global variable X.\n",
    "After the function call, the code executes the print(X) statement outside the function.\n",
    "The print(X) statement refers to the global variable X, which was assigned the value 'iNeuron' and hasn't been modified by the function.\n",
    "Therefore, the output of print(X) will be 'iNeuron', indicating that the global variable X remains unchanged."
   ]
  },
  {
   "cell_type": "markdown",
   "id": "0539e412",
   "metadata": {},
   "source": [
    "# 3. What does this code print, and why?\n",
    "\n",
    "&gt;&gt;&gt; X = &#39;iNeuron&#39;\n",
    "&gt;&gt;&gt; def func():\n",
    "X = &#39;NI&#39;\n",
    "print(X)\n",
    "\n",
    "&gt;&gt;&gt; func()\n",
    "&gt;&gt;&gt; print(X)"
   ]
  },
  {
   "cell_type": "code",
   "execution_count": null,
   "id": "a171a076",
   "metadata": {},
   "outputs": [],
   "source": [
    "The code will print:\n",
    "\n",
    "'NI'\n",
    "'iNeuron'\n",
    "\n",
    "Explanation:\n",
    "\n",
    "The code defines a variable X and assigns it the value 'iNeuron'.\n",
    "It then defines a function named func().\n",
    "Inside the function, it assigns a new value 'NI' to a local variable X. This creates a new local variable X within the scope of the function, which is separate from the global variable X.\n",
    "Within the function, it prints the value of the local variable X, which is 'NI'.\n",
    "The function func() is called, and it executes the print(X) statement within the function, printing 'NI'.\n",
    "After the function call, the code executes the print(X) statement outside the function.\n",
    "The print(X) statement refers to the global variable X, which was assigned the value 'iNeuron' and remains unchanged.\n",
    "Therefore, the output of print(X) will be 'iNeuron', indicating that the global variable X is still 'iNeuron'. The local variable X within the function doesn't affect the value of the global variable X outside the function."
   ]
  },
  {
   "cell_type": "markdown",
   "id": "fee9a7b4",
   "metadata": {},
   "source": [
    "# 4. What output does this code produce? Why?\n",
    "\n",
    "&gt;&gt;&gt; X = &#39;iNeuron&#39;\n",
    "&gt;&gt;&gt; def func():\n",
    "global X\n",
    "X = &#39;NI&#39;\n",
    "\n",
    "&gt;&gt;&gt; func()\n",
    "&gt;&gt;&gt; print(X)"
   ]
  },
  {
   "cell_type": "code",
   "execution_count": null,
   "id": "9ecbfe0b",
   "metadata": {},
   "outputs": [],
   "source": [
    "The code will produce the output:\n",
    "\n",
    "'NI'\n",
    "\n",
    "Explanation:\n",
    "\n",
    "The code defines a global variable X and assigns it the value 'iNeuron'.\n",
    "It then defines a function named func().\n",
    "Inside the function, it declares the variable X as global using the global keyword. This tells the function to use the global variable X instead of creating a new local variable.\n",
    "Within the function, it assigns a new value 'NI' to the global variable X.\n",
    "The function func() is called, and it modifies the value of the global variable X to 'NI'.\n",
    "After the function call, the code executes the print(X) statement outside the function.\n",
    "The print(X) statement refers to the global variable X, which was modified by the function to 'NI'.\n",
    "Therefore, the output of print(X) will be 'NI', indicating that the global variable X has been changed by the function."
   ]
  },
  {
   "cell_type": "markdown",
   "id": "727e7d1b",
   "metadata": {},
   "source": [
    "# 5. What about this code—what’s the output, and why?\n",
    "\n",
    "&gt;&gt;&gt; X = &#39;iNeuron&#39;\n",
    "&gt;&gt;&gt; def func():\n",
    "X = &#39;NI&#39;\n",
    "def nested():\n",
    "print(X)\n",
    "nested()\n",
    "\n",
    "&gt;&gt;&gt; func()\n",
    "&gt;&gt;&gt; X"
   ]
  },
  {
   "cell_type": "code",
   "execution_count": null,
   "id": "2c978e09",
   "metadata": {},
   "outputs": [],
   "source": [
    "The code will produce the output:\n",
    "\n",
    "'iNeuron'\n",
    "\n",
    "Explanation:\n",
    "\n",
    "The code defines a variable X and assigns it the value 'iNeuron'.\n",
    "It then defines a function named func().\n",
    "Inside the func() function, it defines another nested function named nested().\n",
    "Within the nested() function, it prints the value of the variable X. Since X is not defined within the nested() function's scope, it looks for the value of X in the enclosing scopes.\n",
    "In this case, the enclosing scope of nested() is the func() function. So it uses the value of X defined within func(), which is 'NI'.\n",
    "After defining the nested() function, it calls nested() from within func().\n",
    "When nested() is called, it prints the value of X, which is 'NI'.\n",
    "After the function call, the code executes func() from outside the function.\n",
    "Finally, it prints the value of X again from the outermost scope, which is 'iNeuron'.\n",
    "Therefore, the output of X will be 'iNeuron', indicating that the global variable X remains unchanged. The value 'NI' assigned within the nested() function is only accessible within the nested function's scope and does not affect the value of the global variable X."
   ]
  },
  {
   "cell_type": "markdown",
   "id": "abcd9389",
   "metadata": {},
   "source": [
    "# 6. How about this code: what is its output in Python 3, and explain?\n",
    "\n",
    "&gt;&gt;&gt; def func():\n",
    "X = &#39;NI&#39;\n",
    "def nested():\n",
    "nonlocal X\n",
    "X = &#39;Spam&#39;\n",
    "nested()\n",
    "print(X)\n",
    "\n",
    "&gt;&gt;&gt; func()"
   ]
  },
  {
   "cell_type": "code",
   "execution_count": null,
   "id": "d7e587bc",
   "metadata": {},
   "outputs": [],
   "source": [
    "The code will produce the output:\n",
    "\n",
    "'Spam'\n",
    "\n",
    "Explanation:\n",
    "\n",
    "The code defines a function named func().\n",
    "Inside the func() function, it defines another nested function named nested().\n",
    "Within the nested() function, it uses the nonlocal keyword to indicate that the variable X is not local to the nested() function but belongs to the enclosing scope, which is the func() function.\n",
    "It assigns the value 'Spam' to the variable X within the nested() function.\n",
    "After defining the nested() function, it calls nested() from within func().\n",
    "When nested() is called, it modifies the value of the variable X to 'Spam'.\n",
    "After the execution of the nested() function, the code continues with the print(X) statement within the func() function.\n",
    "The print(X) statement refers to the variable X within the func() function, which has been modified by the nested() function.\n",
    "Therefore, the output of print(X) will be 'Spam', indicating that the value of X has been changed by the nested() function using the nonlocal keyword."
   ]
  }
 ],
 "metadata": {
  "kernelspec": {
   "display_name": "Python 3 (ipykernel)",
   "language": "python",
   "name": "python3"
  },
  "language_info": {
   "codemirror_mode": {
    "name": "ipython",
    "version": 3
   },
   "file_extension": ".py",
   "mimetype": "text/x-python",
   "name": "python",
   "nbconvert_exporter": "python",
   "pygments_lexer": "ipython3",
   "version": "3.9.7"
  }
 },
 "nbformat": 4,
 "nbformat_minor": 5
}
