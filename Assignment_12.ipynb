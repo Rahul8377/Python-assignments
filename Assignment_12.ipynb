{
 "cells": [
  {
   "cell_type": "markdown",
   "id": "73f03390",
   "metadata": {},
   "source": [
    "# ASSIGNMENT - 12"
   ]
  },
  {
   "cell_type": "markdown",
   "id": "ec8407c7",
   "metadata": {},
   "source": [
    "# 1. In what modes should the PdfFileReader() and PdfFileWriter() File objects will be opened?"
   ]
  },
  {
   "cell_type": "markdown",
   "id": "582dcef5",
   "metadata": {},
   "source": [
    "For PdfFileReader() file objects should be opened in rb -> read binary mode, Whereas for PdfFileWriter() file objects should be opened in wb -> write binary mode."
   ]
  },
  {
   "cell_type": "markdown",
   "id": "01a52bf9",
   "metadata": {},
   "source": [
    "When using the PyPDF2 library in Python, the PdfFileReader() and PdfFileWriter() objects should be opened in binary mode ('rb' and 'wb' respectively).\n",
    "\n",
    "The PdfFileReader() object is used to read a PDF file, and it requires the file to be opened in binary read mode 'rb'. This is because PDF files are binary files, and opening them in text mode can result in data loss or corruption.\n",
    "\n",
    "The PdfFileWriter() object is used to create a new PDF file or modify an existing one, and it requires the file to be opened in binary write mode 'wb'. This is because the PDF format specifies a particular binary structure that must be followed, and writing to a file in text mode can result in the creation of an invalid PDF file."
   ]
  },
  {
   "cell_type": "markdown",
   "id": "5c8ddb9c",
   "metadata": {},
   "source": [
    "# 2. From a PdfFileReader object, how do you get a Page object for page 5?"
   ]
  },
  {
   "cell_type": "markdown",
   "id": "b0de5945",
   "metadata": {},
   "source": [
    "To get a Page object for page 5 from a PdfFileReader object in PyPDF2, you can use the getPage() method, which takes the page number as an argument and returns the corresponding Page object.\n",
    "\n",
    "Here's an example code snippet that demonstrates how to get a Page object for page 5 from a PdfFileReader object:"
   ]
  },
  {
   "cell_type": "markdown",
   "id": "0dc98e3f",
   "metadata": {},
   "source": [
    "import PyPDF2\n",
    "\n",
    "# Open the PDF file in read binary mode\n",
    "with open('example.pdf', 'rb') as pdf_file:\n",
    "    # Create a PdfFileReader object\n",
    "    pdf_reader = PyPDF2.PdfFileReader(pdf_file)\n",
    "\n",
    "    # Get the Page object for page 5 (note that pages are zero-indexed)\n",
    "    page_5 = pdf_reader.getPage(4)\n"
   ]
  },
  {
   "cell_type": "markdown",
   "id": "c8506db5",
   "metadata": {},
   "source": [
    "# 3. What PdfFileReader variable stores the number of pages in the PDF document?"
   ]
  },
  {
   "cell_type": "markdown",
   "id": "37cca912",
   "metadata": {},
   "source": [
    "In PyPDF2, the number of pages in a PDF document can be obtained using the numPages variable of a PdfFileReader object.\n",
    "\n",
    "Here's an example code snippet that demonstrates how to get the number of pages in a PDF document using PyPDF2:"
   ]
  },
  {
   "cell_type": "markdown",
   "id": "3b5e6676",
   "metadata": {},
   "source": [
    "import PyPDF2\n",
    "\n",
    "# Open the PDF file in read binary mode\n",
    "with open('example.pdf', 'rb') as pdf_file:\n",
    "    # Create a PdfFileReader object\n",
    "    pdf_reader = PyPDF2.PdfFileReader(pdf_file)\n",
    "\n",
    "    # Get the number of pages in the PDF document\n",
    "    num_pages = pdf_reader.numPages\n",
    "\n",
    "    # Print the number of pages\n",
    "    print(f'The PDF document contains {num_pages} pages.')\n"
   ]
  },
  {
   "cell_type": "markdown",
   "id": "4017d9be",
   "metadata": {},
   "source": [
    "In the example above, we first open the PDF file in binary read mode using the open() function. We then create a PdfFileReader object and assign it to the variable pdf_reader. Finally, we use the numPages variable to get the number of pages in the PDF document, which is assigned to the variable num_pages. We then print the number of pages using an f-string."
   ]
  },
  {
   "cell_type": "markdown",
   "id": "3fb3c96b",
   "metadata": {},
   "source": [
    "# 4. If a PdfFileReader object’s PDF is encrypted with the password swordfish, what must you do before you can obtain Page objects from it?"
   ]
  },
  {
   "cell_type": "markdown",
   "id": "f23a8766",
   "metadata": {},
   "source": [
    "If a PdfFileReader object's PDF is encrypted with a password, you must provide the password before you can obtain Page objects from it. You can do this by calling the decrypt() method of the PdfFileReader object and passing the password as a string argument.\n",
    "\n",
    "Here's an example code snippet that demonstrates how to decrypt an encrypted PDF file using PyPDF2:"
   ]
  },
  {
   "cell_type": "markdown",
   "id": "3ba13fd9",
   "metadata": {},
   "source": [
    "# import PyPDF2\n",
    "\n",
    "# Open the PDF file in read binary mode\n",
    "with open('encrypted.pdf', 'rb') as pdf_file:\n",
    "    # Create a PdfFileReader object\n",
    "    pdf_reader = PyPDF2.PdfFileReader(pdf_file)\n",
    "\n",
    "    # Check if the PDF file is encrypted\n",
    "    if pdf_reader.isEncrypted:\n",
    "        # Decrypt the PDF file with the password 'swordfish'\n",
    "        pdf_reader.decrypt('swordfish')\n",
    "\n",
    "    # Get the Page object for page 1\n",
    "    page_1 = pdf_reader.getPage(0)\n"
   ]
  },
  {
   "cell_type": "markdown",
   "id": "465d9800",
   "metadata": {},
   "source": [
    "In the example above, we first open the encrypted PDF file in binary read mode using the open() function. We then create a PdfFileReader object and assign it to the variable pdf_reader. We check if the PDF file is encrypted using the isEncrypted property of the PdfFileReader object. If it is encrypted, we call the decrypt() method of the PdfFileReader object and pass the password 'swordfish' as an argument to decrypt the PDF file. Finally, we use the getPage() method to get the Page object for page 1, which is assigned to the variable page_1 for further processing."
   ]
  },
  {
   "cell_type": "markdown",
   "id": "13f115e2",
   "metadata": {},
   "source": [
    "# 5. What methods do you use to rotate a page?"
   ]
  },
  {
   "cell_type": "markdown",
   "id": "8f36d5a5",
   "metadata": {},
   "source": [
    "To rotate a page in PyPDF2, you can use the rotateClockwise() and rotateCounterClockwise() methods of the Page object. These methods rotate the page by 90 degrees clockwise or counterclockwise, respectively.\n",
    "\n",
    "Here's an example code snippet that demonstrates how to rotate a page 90 degrees clockwise using PyPDF2:"
   ]
  },
  {
   "cell_type": "markdown",
   "id": "c2514558",
   "metadata": {},
   "source": [
    "import PyPDF2\n",
    "\n",
    " # Open the PDF file in read binary mode\n",
    "with open('example.pdf', 'rb') as pdf_file:\n",
    "    # Create a PdfFileReader object\n",
    "    pdf_reader = PyPDF2.PdfFileReader(pdf_file)\n",
    "\n",
    "    # Get the Page object for page 1\n",
    "    page_1 = pdf_reader.getPage(0)\n",
    "\n",
    "    # Rotate the page 90 degrees clockwise\n",
    "    page_1.rotateClockwise(90)\n",
    "\n",
    "    # Create a new PDF file and add the rotated page to it\n",
    "    with open('rotated.pdf', 'wb') as output_file:\n",
    "        # Create a PdfFileWriter object\n",
    "        pdf_writer = PyPDF2.PdfFileWriter()\n",
    "\n",
    "        # Add the rotated page to the PdfFileWriter object\n",
    "        pdf_writer.addPage(page_1)\n",
    "\n",
    "        # Write the PdfFileWriter object to the output file\n",
    "        pdf_writer.write(output_file)\n"
   ]
  },
  {
   "cell_type": "markdown",
   "id": "df830199",
   "metadata": {},
   "source": [
    "In the example above, we first open the PDF file in binary read mode using the open() function. We then create a PdfFileReader object and assign it to the variable pdf_reader. We get the Page object for page 1 using the getPage() method, which is assigned to the variable page_1. We then rotate the page 90 degrees clockwise using the rotateClockwise() method of the Page object. Finally, we create a new PDF file, create a PdfFileWriter object, add the rotated page to the PdfFileWriter object using the addPage() method, and write the PdfFileWriter object to the output file using the write() method. The resulting PDF file will contain the rotated page."
   ]
  },
  {
   "cell_type": "markdown",
   "id": "28de575e",
   "metadata": {},
   "source": [
    "# 6. What is the difference between a Run object and a Paragraph object?"
   ]
  },
  {
   "cell_type": "markdown",
   "id": "f836eedf",
   "metadata": {},
   "source": [
    "In Python's python-docx library, a Run object represents a contiguous run of text with the same character style (e.g., font, size, color, etc.), while a Paragraph object represents a single paragraph of text with its own paragraph properties (e.g., indentation, line spacing, alignment, etc.).\n",
    "\n",
    "Here's an example code snippet that demonstrates how to create a simple Word document with a single paragraph containing two runs of text:"
   ]
  },
  {
   "cell_type": "markdown",
   "id": "60e173f1",
   "metadata": {},
   "source": [
    "import docx\n",
    "\n",
    "# Create a new Word document\n",
    "doc = docx.Document()\n",
    "\n",
    "# Add a paragraph with two runs of text\n",
    "p = doc.add_paragraph('This is the first run of text. ')\n",
    "p.add_run('This is the second run of text.')\n",
    "\n",
    "# Save the Word document\n",
    "doc.save('example.docx')\n"
   ]
  },
  {
   "cell_type": "markdown",
   "id": "98fe72bb",
   "metadata": {},
   "source": [
    "# 7. How do you obtain a list of Paragraph objects for a Document object that’s stored in a variable named doc?"
   ]
  },
  {
   "cell_type": "markdown",
   "id": "3d70ae94",
   "metadata": {},
   "source": [
    "To obtain a list of Paragraph objects for a Document object stored in a variable named doc using Python's python-docx library, you can use the paragraphs property of the Document object.\n",
    "\n",
    "Here's an example code snippet that demonstrates how to obtain a list of Paragraph objects for a Document object:"
   ]
  },
  {
   "cell_type": "markdown",
   "id": "f10b3e40",
   "metadata": {},
   "source": [
    "import docx\n",
    "\n",
    "# Open an existing Word document\n",
    "doc = docx.Document('example.docx')\n",
    "\n",
    "# Get a list of Paragraph objects\n",
    "paragraphs = doc.paragraphs\n",
    "\n",
    "# Print the text of each paragraph\n",
    "for p in paragraphs:\n",
    "    print(p.text)\n"
   ]
  },
  {
   "cell_type": "markdown",
   "id": "5f346e0c",
   "metadata": {},
   "source": [
    "# 8. What type of object has bold, underline, italic, strike, and outline variables?"
   ]
  },
  {
   "cell_type": "markdown",
   "id": "6ce52a3d",
   "metadata": {},
   "source": [
    "In Python's python-docx library, the Run object has the following character formatting properties: bold, underline, italic, strike, and outline.\n",
    "\n",
    "A Run object represents a contiguous run of text with the same character style, and it is used to modify the character formatting properties of that run of text.\n",
    "\n",
    "Here's an example code snippet that demonstrates how to create a Run object and modify its character formatting properties:"
   ]
  },
  {
   "cell_type": "markdown",
   "id": "5226b5fd",
   "metadata": {},
   "source": [
    "import docx\n",
    "\n",
    "# Create a new Word document\n",
    "doc = docx.Document()\n",
    "\n",
    "# Add a paragraph with a bold, underlined, italicized, and strikethrough run of text\n",
    "p = doc.add_paragraph()\n",
    "r = p.add_run('This text is bold, underlined, italicized, and strikethrough.')\n",
    "r.bold = True\n",
    "r.underline = True\n",
    "r.italic = True\n",
    "r.strike = True\n",
    "\n",
    "# Save the Word document\n",
    "doc.save('example.docx')\n"
   ]
  },
  {
   "cell_type": "markdown",
   "id": "6ba85471",
   "metadata": {},
   "source": [
    "# 9. What is the difference between False, True, and None for the bold variable?"
   ]
  },
  {
   "cell_type": "markdown",
   "id": "80cab8cc",
   "metadata": {},
   "source": [
    "In Python's python-docx library, the bold variable of a Run object can be set to three different values: True, False, or None. Here's what each value represents:\n",
    "\n",
    "True: This sets the text in the Run object to be bold.\n",
    "False: This sets the text in the Run object to be not bold.\n",
    "None: This sets the text in the Run object to inherit its boldness from its parent style. If the parent style has bold formatting, then the text in the Run object will be bold; otherwise, it will not be bold."
   ]
  },
  {
   "cell_type": "markdown",
   "id": "e68f9b24",
   "metadata": {},
   "source": [
    "# 10. How do you create a Document object for a new Word document?"
   ]
  },
  {
   "cell_type": "markdown",
   "id": "15e2f7f9",
   "metadata": {},
   "source": [
    "In Python's python-docx library, you can create a Document object for a new Word document by calling the Document() constructor. Here's an example code snippet that demonstrates how to create a new Word document using the Document() constructor:"
   ]
  },
  {
   "cell_type": "markdown",
   "id": "5b1c4368",
   "metadata": {},
   "source": [
    "import docx\n",
    "\n",
    "# Create a new Word document\n",
    "doc = docx.Document()\n",
    "\n",
    "# Add content to the document\n",
    "doc.add_paragraph('This is a paragraph.')\n",
    "doc.add_heading('This is a heading.', level=1)\n",
    "\n",
    "# Save the Word document\n",
    "doc.save('example.docx')\n"
   ]
  },
  {
   "cell_type": "markdown",
   "id": "14148847",
   "metadata": {},
   "source": [
    "In the example above, we first import the docx module, which contains the Document class. We then create a new Word document by calling the Document() constructor, which returns a new Document object that is assigned to the variable doc. We then add some content to the document by calling the add_paragraph() and add_heading() methods of the Document object. Finally, we save the Word document to a file using the save() method of the Document object.\n",
    "\n",
    "The resulting Word document will contain a single paragraph and a heading. You can open the document in Microsoft Word to verify that it was created correctly."
   ]
  },
  {
   "cell_type": "markdown",
   "id": "ec03b206",
   "metadata": {},
   "source": [
    "# 11. How do you add a paragraph with the text \"Hello, there!\" to a Document object stored in a variable named doc?"
   ]
  },
  {
   "cell_type": "markdown",
   "id": "2efbd3dc",
   "metadata": {},
   "source": [
    "In Python's python-docx library, you can add a paragraph with the text \"Hello, there!\" to a Document object stored in a variable named doc by calling the add_paragraph() method of the Document object and passing the text as an argument. Here's an example code snippet that demonstrates how to add a paragraph to a Document object:"
   ]
  },
  {
   "cell_type": "markdown",
   "id": "3a28c4c7",
   "metadata": {},
   "source": [
    "import docx\n",
    "\n",
    "# Create a new Word document\n",
    "doc = docx.Document()\n",
    "\n",
    "# Add a paragraph to the document\n",
    "doc.add_paragraph('Hello, there!')\n",
    "\n",
    "# Save the Word document\n",
    "doc.save('example.docx')\n"
   ]
  },
  {
   "cell_type": "markdown",
   "id": "8f099b76",
   "metadata": {},
   "source": [
    "# 12. What integers represent the levels of headings available in Word documents?"
   ]
  },
  {
   "cell_type": "markdown",
   "id": "818bbcf7",
   "metadata": {},
   "source": [
    "In Word documents, there are typically six levels of headings available, represented by the integers 1 to 6. The first level of heading is the largest and most important, while the sixth level of heading is the smallest and least important.\n",
    "\n",
    "In the python-docx library, you can specify the level of a heading by passing an integer argument to the add_heading() method of the Document object. For example, doc.add_heading('Heading Text', level=1) would create a first-level heading with the text \"Heading Text\", while doc.add_heading('Subheading Text', level=2) would create a second-level heading with the text \"Subheading Text\"."
   ]
  },
  {
   "cell_type": "code",
   "execution_count": null,
   "id": "0052d052",
   "metadata": {},
   "outputs": [],
   "source": []
  }
 ],
 "metadata": {
  "kernelspec": {
   "display_name": "Python 3 (ipykernel)",
   "language": "python",
   "name": "python3"
  },
  "language_info": {
   "codemirror_mode": {
    "name": "ipython",
    "version": 3
   },
   "file_extension": ".py",
   "mimetype": "text/x-python",
   "name": "python",
   "nbconvert_exporter": "python",
   "pygments_lexer": "ipython3",
   "version": "3.9.7"
  }
 },
 "nbformat": 4,
 "nbformat_minor": 5
}
