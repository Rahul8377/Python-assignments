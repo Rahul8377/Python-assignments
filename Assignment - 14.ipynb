{
 "cells": [
  {
   "cell_type": "markdown",
   "id": "283ff295",
   "metadata": {},
   "source": [
    "# Assignment-14"
   ]
  },
  {
   "cell_type": "markdown",
   "id": "3d815bd2",
   "metadata": {},
   "source": [
    "# 1. What does RGBA stand for?"
   ]
  },
  {
   "cell_type": "markdown",
   "id": "8e4b8075",
   "metadata": {},
   "source": [
    "RGBA stands for \"Red Green Blue Alpha\". It is a color model used in digital imaging, where each pixel is represented by a combination of red, green, and blue values, and an alpha value that represents the pixel's opacity or transparency. The alpha value can range from 0 (fully transparent) to 1 (fully opaque). This color model is commonly used in computer graphics, web design, and other digital media applications."
   ]
  },
  {
   "cell_type": "markdown",
   "id": "0ea7c264",
   "metadata": {},
   "source": [
    "# 2. From the Pillow module, how do you get the RGBA value of any images?"
   ]
  },
  {
   "cell_type": "markdown",
   "id": "68adc10f",
   "metadata": {},
   "source": [
    "To get the RGBA value of any image using the Pillow module in Python, you can use the getpixel() method. This method returns the RGBA value of a pixel at the specified coordinates. Here's an example code snippet:\n",
    "\n",
    "\n",
    "\n",
    "\n",
    "In the Pillow module, you can use the getpixel method to retrieve the RGBA (Red, Green, Blue, Alpha) value of any pixel in an image. Here's an example:"
   ]
  },
  {
   "cell_type": "markdown",
   "id": "25ce9d3e",
   "metadata": {},
   "source": [
    "from PIL import Image\n",
    "\n",
    "# Open the image\n",
    "image = Image.open(\"your_image.png\")\n",
    "\n",
    "# Get the RGBA value of a pixel at coordinates (x, y)\n",
    "x = 100\n",
    "y = 200\n",
    "rgba = image.getpixel((x, y))\n",
    "\n",
    "# Print the RGBA values\n",
    "print(\"RGBA values:\", rgba)\n"
   ]
  },
  {
   "cell_type": "markdown",
   "id": "4e69ba20",
   "metadata": {},
   "source": [
    " In this example, your_image.png should be replaced with the path to your actual image file. The getpixel method takes a tuple (x, y) representing the coordinates of the pixel you want to retrieve. The returned rgba value will be a tuple containing four integers representing the red, green, blue, and alpha values of the pixel, respectively.\n",
    "\n",
    "Note that the coordinates (0, 0) correspond to the top-left corner of the image, and the coordinates increase as you move down and to the right."
   ]
  },
  {
   "cell_type": "markdown",
   "id": "4c8fc6c2",
   "metadata": {},
   "source": [
    "# 3. What is a box tuple, and how does it work?"
   ]
  },
  {
   "cell_type": "markdown",
   "id": "75dc2570",
   "metadata": {},
   "source": [
    "In the context of the Pillow module, a box tuple is a tuple that represents a rectangular region or box within an image. It is commonly used to specify regions of interest, such as cropping an image or extracting a portion of it. The box tuple consists of four integers in the following order: (left, upper, right, lower).\n",
    "\n",
    "Here's how the box tuple works:\n",
    "\n",
    "left represents the x-coordinate of the leftmost edge of the box.\n",
    "upper represents the y-coordinate of the upper edge of the box.\n",
    "right represents the x-coordinate of the rightmost edge of the box.\n",
    "lower represents the y-coordinate of the lower edge of the box.\n",
    "The box tuple defines a rectangular region where the left and upper coordinates represent the top-left corner of the box, and the right and lower coordinates represent the bottom-right corner of the box. The box is defined inclusively, meaning that the pixels on the right and bottom edges are included in the box."
   ]
  },
  {
   "cell_type": "code",
   "execution_count": null,
   "id": "47e11cff",
   "metadata": {},
   "outputs": [],
   "source": []
  },
  {
   "cell_type": "code",
   "execution_count": null,
   "id": "d05a6a0b",
   "metadata": {},
   "outputs": [],
   "source": []
  },
  {
   "cell_type": "markdown",
   "id": "bbf449ba",
   "metadata": {},
   "source": [
    "# 4. Use your image and load in notebook then, How can you find out the width and height of an Image object?"
   ]
  },
  {
   "cell_type": "markdown",
   "id": "575a107b",
   "metadata": {},
   "source": [
    "To find out the width and height of an Image object using the Pillow module in a Jupyter Notebook, you can use the size attribute or the width and height attributes of the Image object. Here's an example:\n",
    "\n",
    "python"
   ]
  },
  {
   "cell_type": "markdown",
   "id": "e970e670",
   "metadata": {},
   "source": [
    "from PIL import Image\n",
    "import IPython.display as display\n",
    "\n",
    "# Open the image\n",
    "image = Image.open(\"your_image.png\")\n",
    "\n",
    "# Display the image in the notebook\n",
    "display.display(image)\n",
    "\n",
    "# Get the width and height using the size attribute\n",
    "width, height = image.size\n",
    "print(\"Width:\", width)\n",
    "print(\"Height:\", height)\n",
    "\n",
    "# Get the width and height using the width and height attributes\n",
    "width = image.width\n",
    "height = image.height\n",
    "print(\"Width:\", width)\n",
    "print(\"Height:\", height)\n"
   ]
  },
  {
   "cell_type": "markdown",
   "id": "90e011bf",
   "metadata": {},
   "source": [
    "# 5. What method would you call to get Image object for a 100×100 image, excluding the lower-left quarter of it?"
   ]
  },
  {
   "cell_type": "markdown",
   "id": "babe62ae",
   "metadata": {},
   "source": [
    "To get an Image object for a 100x100 image, excluding the lower-left quarter of it, you can use the crop method of the Image object. Here's an example:"
   ]
  },
  {
   "cell_type": "markdown",
   "id": "5374f2ba",
   "metadata": {},
   "source": [
    "from PIL import Image\n",
    "\n",
    "# Open the original image\n",
    "image = Image.open(\"your_image.png\")\n",
    "\n",
    "# Define the box tuple for the upper-right three-quarters of the image\n",
    "box = (0, 0, 100, 50)  # (left, upper, right, lower)\n",
    "\n",
    "# Crop the image using the box tuple\n",
    "cropped_image = image.crop(box)\n",
    "\n",
    "# Display the cropped image\n",
    "cropped_image.show()\n"
   ]
  },
  {
   "cell_type": "markdown",
   "id": "7b611c5f",
   "metadata": {},
   "source": [
    "# 6. After making changes to an Image object, how could you save it as an image file?"
   ]
  },
  {
   "cell_type": "markdown",
   "id": "518f1243",
   "metadata": {},
   "source": [
    "To save changes made to an Image object as an image file using the Pillow module, you can use the save method. Here's an example:"
   ]
  },
  {
   "cell_type": "markdown",
   "id": "611d7adb",
   "metadata": {},
   "source": [
    "from PIL import Image\n",
    "\n",
    "# Open the original image\n",
    "image = Image.open(\"your_image.png\")\n",
    "\n",
    "# Perform operations or modifications on the image (e.g., cropping, resizing, etc.)\n",
    "\n",
    "# Save the modified image as a new file\n",
    "image.save(\"modified_image.png\")\n"
   ]
  },
  {
   "cell_type": "markdown",
   "id": "9433e008",
   "metadata": {},
   "source": [
    "# 7. What module contains Pillow’s shape-drawing code?"
   ]
  },
  {
   "cell_type": "markdown",
   "id": "e95ebe1f",
   "metadata": {},
   "source": [
    "Pillow's shape-drawing code can be found in the ImageDraw module. The ImageDraw module is part of the Pillow library and provides functionality for drawing shapes, lines, and text on an Image object.\n",
    "\n",
    "To use the shape-drawing code from Pillow, you would typically import the ImageDraw module along with the Image module. Here's an example:"
   ]
  },
  {
   "cell_type": "markdown",
   "id": "04b086e5",
   "metadata": {},
   "source": [
    "from PIL import Image, ImageDraw\n",
    "\n",
    "# Open the image\n",
    "image = Image.open(\"your_image.png\")\n",
    "\n",
    "# Create an ImageDraw object\n",
    "draw = ImageDraw.Draw(image)\n",
    "\n",
    "# Draw shapes or lines on the image using the ImageDraw methods\n",
    "draw.rectangle((10, 10, 100, 100), outline=\"red\")\n",
    "draw.line((50, 50, 150, 150), fill=\"blue\", width=2)\n",
    "\n",
    "# Save or display the modified image\n",
    "image.save(\"modified_image.png\")\n"
   ]
  },
  {
   "cell_type": "markdown",
   "id": "56ee3342",
   "metadata": {},
   "source": [
    "In this example, your_image.png should be replaced with the path to your actual image file. The ImageDraw module is imported along with the Image module from the Pillow library. An ImageDraw object named draw is created using the ImageDraw.Draw method, which takes the image object as a parameter.\n",
    "\n",
    "Once you have the draw object, you can use its methods like rectangle, line, etc., to draw shapes or lines on the image. In the example, a rectangle and a line are drawn on the image using the rectangle and line methods, respectively.\n",
    "\n",
    "Finally, you can save or display the modified image as needed using the save method of the image object."
   ]
  },
  {
   "cell_type": "markdown",
   "id": "3a874aaf",
   "metadata": {},
   "source": [
    "# 8. Image objects do not have drawing methods. What kind of object does? How do you get this kind of object?"
   ]
  },
  {
   "cell_type": "markdown",
   "id": "95add6d9",
   "metadata": {},
   "source": [
    "You are correct. Image objects in the Pillow module do not have built-in drawing methods. Instead, you can use the ImageDraw object from the ImageDraw module to perform drawing operations on an image.\n",
    "\n",
    "To obtain an ImageDraw object for a specific image, you need to create it using the ImageDraw.Draw method, passing the image object as a parameter. Here's an example:"
   ]
  },
  {
   "cell_type": "markdown",
   "id": "a04e00f1",
   "metadata": {},
   "source": [
    "from PIL import Image, ImageDraw\n",
    "\n",
    "# Open the image\n",
    "image = Image.open(\"your_image.png\")\n",
    "\n",
    "# Create an ImageDraw object\n",
    "draw = ImageDraw.Draw(image)\n",
    "\n",
    "# Perform drawing operations using the ImageDraw methods\n",
    "draw.rectangle((10, 10, 100, 100), outline=\"red\")\n",
    "draw.line((50, 50, 150, 150), fill=\"blue\", width=2)\n",
    "\n",
    "# Save or display the modified image\n",
    "image.save(\"modified_image.png\")\n"
   ]
  },
  {
   "cell_type": "code",
   "execution_count": null,
   "id": "0808115b",
   "metadata": {},
   "outputs": [],
   "source": []
  }
 ],
 "metadata": {
  "kernelspec": {
   "display_name": "Python 3 (ipykernel)",
   "language": "python",
   "name": "python3"
  },
  "language_info": {
   "codemirror_mode": {
    "name": "ipython",
    "version": 3
   },
   "file_extension": ".py",
   "mimetype": "text/x-python",
   "name": "python",
   "nbconvert_exporter": "python",
   "pygments_lexer": "ipython3",
   "version": "3.9.7"
  }
 },
 "nbformat": 4,
 "nbformat_minor": 5
}
