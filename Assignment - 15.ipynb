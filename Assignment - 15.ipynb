{
 "cells": [
  {
   "cell_type": "markdown",
   "id": "a082690c",
   "metadata": {},
   "source": [
    "# Assignment -15"
   ]
  },
  {
   "cell_type": "markdown",
   "id": "af8251d1",
   "metadata": {},
   "source": [
    "# 1.How many seconds are in an hour? Use the interactive interpreter as a calculator and multiply the number of seconds in a minute (60) by the number of minutes in an hour (also 60)."
   ]
  },
  {
   "cell_type": "markdown",
   "id": "2ed4b718",
   "metadata": {},
   "source": [
    "To calculate the number of seconds in an hour using the interactive interpreter, you can multiply the number of seconds in a minute (60) by the number of minutes in an hour (also 60). Here's how you can do it:"
   ]
  },
  {
   "cell_type": "markdown",
   "id": "3c651bbe",
   "metadata": {},
   "source": [
    "seconds_in_minute = 60\n",
    "minutes_in_hour = 60\n",
    "\n",
    "seconds_in_hour = seconds_in_minute * minutes_in_hour\n",
    "print(seconds_in_hour)\n"
   ]
  },
  {
   "cell_type": "markdown",
   "id": "65d6c960",
   "metadata": {},
   "source": [
    "# 2. Assign the result from the previous task (seconds in an hour) to a variable called seconds_per_hour."
   ]
  },
  {
   "cell_type": "markdown",
   "id": "47577cb3",
   "metadata": {},
   "source": [
    "To assign the result from the previous task (seconds in an hour) to a variable called seconds_per_hour, you can use the following code:"
   ]
  },
  {
   "cell_type": "markdown",
   "id": "f27992ea",
   "metadata": {},
   "source": [
    "seconds_per_hour = 3600\n"
   ]
  },
  {
   "cell_type": "markdown",
   "id": "08189e51",
   "metadata": {},
   "source": [
    "# 3. How many seconds do you think there are in a day? Make use of the variables seconds per hour and minutes per hour."
   ]
  },
  {
   "cell_type": "markdown",
   "id": "4403a4f2",
   "metadata": {},
   "source": [
    "To calculate the number of seconds in a day, we can use the variables seconds_per_hour and minutes_in_hour from the previous tasks. Since there are 24 hours in a day, we can multiply the number of seconds in an hour by the number of hours in a day."
   ]
  },
  {
   "cell_type": "markdown",
   "id": "f4b7e11e",
   "metadata": {},
   "source": [
    "hours_in_day = 24\n",
    "seconds_in_day = seconds_per_hour * minutes_in_hour * hours_in_day\n",
    "print(seconds_in_day)\n"
   ]
  },
  {
   "cell_type": "markdown",
   "id": "72c7da64",
   "metadata": {},
   "source": [
    "# 4. Calculate seconds per day again, but this time save the result in a variable called seconds_per_day"
   ]
  },
  {
   "cell_type": "markdown",
   "id": "66ef0d8e",
   "metadata": {},
   "source": [
    "Certainly! To calculate the number of seconds in a day and save the result in a variable called seconds_per_day, you can use the following code:"
   ]
  },
  {
   "cell_type": "markdown",
   "id": "1c79da9e",
   "metadata": {},
   "source": [
    "seconds_per_day = seconds_per_hour * minutes_in_hour * hours_in_day\n",
    "print(seconds_per_day)\n"
   ]
  },
  {
   "cell_type": "markdown",
   "id": "b48662e1",
   "metadata": {},
   "source": [
    "The code above multiplies the number of seconds in an hour (seconds_per_hour) by the number of minutes in an hour (minutes_in_hour) and the number of hours in a day (hours_in_day), and assigns the result to the variable seconds_per_day. Finally, it prints the value of seconds_per_day:"
   ]
  },
  {
   "cell_type": "markdown",
   "id": "c8213846",
   "metadata": {},
   "source": [
    "# 5. Divide seconds_per_day by seconds_per_hour. Use floating-point (/) division."
   ]
  },
  {
   "cell_type": "markdown",
   "id": "43be1c82",
   "metadata": {},
   "source": [
    "To divide the variable seconds_per_day by seconds_per_hour using floating-point division, you can use the following code:"
   ]
  },
  {
   "cell_type": "markdown",
   "id": "c7f3a0bd",
   "metadata": {},
   "source": [
    "division_result = seconds_per_day / seconds_per_hour\n",
    "print(division_result)\n"
   ]
  },
  {
   "cell_type": "markdown",
   "id": "ec5988c9",
   "metadata": {},
   "source": [
    "When you run this code, it will output the result:"
   ]
  },
  {
   "cell_type": "markdown",
   "id": "3a3f625d",
   "metadata": {},
   "source": [
    "24.0\n"
   ]
  },
  {
   "cell_type": "markdown",
   "id": "fd7d8a82",
   "metadata": {},
   "source": [
    "# 6. Divide seconds_per_day by seconds_per_hour, using integer (//) division. Did this number agree with the floating-point value from the previous question, aside from the final .0?"
   ]
  },
  {
   "cell_type": "markdown",
   "id": "f5fc9665",
   "metadata": {},
   "source": [
    "To divide the variable seconds_per_day by seconds_per_hour using integer division, you can use the double forward slash operator (//) instead of the forward slash operator (/). Here's the code:"
   ]
  },
  {
   "cell_type": "markdown",
   "id": "f62b727f",
   "metadata": {},
   "source": [
    "division_result = seconds_per_day // seconds_per_hour\n",
    "\n",
    "print(division_result)\n"
   ]
  },
  {
   "cell_type": "markdown",
   "id": "206ba207",
   "metadata": {},
   "source": [
    "When you run this code, it will output the result:\n",
    "\n",
    "24"
   ]
  },
  {
   "cell_type": "markdown",
   "id": "667e9068",
   "metadata": {},
   "source": [
    "# 7. Write a generator, genPrimes, that returns the sequence of prime numbers on successive calls to its next() method: 2, 3, 5, 7, 11, ..."
   ]
  },
  {
   "cell_type": "markdown",
   "id": "b28e0b09",
   "metadata": {},
   "source": [
    " Here's an implementation of a generator called genPrimes that generates the sequence of prime numbers on successive calls to its next() method:"
   ]
  },
  {
   "cell_type": "markdown",
   "id": "60f4e62c",
   "metadata": {},
   "source": [
    "def genPrimes():\n",
    "    primes = [2]  # Initialize the list of prime numbers with the first prime, 2\n",
    "    yield 2\n",
    "\n",
    "    current_number = 3  # Start checking numbers from 3 onwards\n",
    "\n",
    "    while True:\n",
    "        is_prime = True\n",
    "\n",
    "        # Check if the current number is divisible by any of the prime numbers found so far\n",
    "        for prime in primes:\n",
    "            if current_number % prime == 0:\n",
    "                is_prime = False\n",
    "                break\n",
    "\n",
    "        if is_prime:\n",
    "            primes.append(current_number)\n",
    "            yield current_number\n",
    "\n",
    "        current_number += 2  # Move to the next odd number\n",
    "\n",
    "\n",
    "# Example usage:\n",
    "prime_generator = genPrimes()\n",
    "\n",
    "# Generate the first few prime numbers\n",
    "print(next(prime_generator))  # Output: 2\n",
    "print(next(prime_generator))  # Output: 3\n",
    "print(next(prime_generator))  # Output: 5\n",
    "print(next(prime_generator))  # Output: 7\n",
    "print(next(prime_generator))  # Output: 11\n"
   ]
  },
  {
   "cell_type": "code",
   "execution_count": null,
   "id": "88b587b4",
   "metadata": {},
   "outputs": [],
   "source": []
  }
 ],
 "metadata": {
  "kernelspec": {
   "display_name": "Python 3 (ipykernel)",
   "language": "python",
   "name": "python3"
  },
  "language_info": {
   "codemirror_mode": {
    "name": "ipython",
    "version": 3
   },
   "file_extension": ".py",
   "mimetype": "text/x-python",
   "name": "python",
   "nbconvert_exporter": "python",
   "pygments_lexer": "ipython3",
   "version": "3.9.7"
  }
 },
 "nbformat": 4,
 "nbformat_minor": 5
}
