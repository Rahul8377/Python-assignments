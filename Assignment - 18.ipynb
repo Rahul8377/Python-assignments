{
 "cells": [
  {
   "cell_type": "markdown",
   "id": "3cd95e86",
   "metadata": {},
   "source": [
    "# Assignment - 18"
   ]
  },
  {
   "cell_type": "markdown",
   "id": "e882fa5d",
   "metadata": {},
   "source": [
    "# 1. Create a zoo.py file first. Define the hours() function, which prints the string &#39;Open 9-5 daily&#39;. Then, use the interactive interpreter to import the zoo module and call its hours() function."
   ]
  },
  {
   "cell_type": "markdown",
   "id": "54c6ed27",
   "metadata": {},
   "source": [
    "To create the zoo.py file and define the hours() function, you can follow these steps:\n",
    "\n",
    "Step 1: Create a new file named zoo.py using a text editor or an integrated development environment (IDE).\n",
    "\n",
    "Step 2: Inside zoo.py, add the following code:\n",
    "\n",
    "\n",
    "\n",
    "def hours():\n",
    "\n",
    "    print('Open 9-5 daily')\n",
    "\n",
    "\n",
    "\n",
    "Step 3: Save the zoo.py file.\n",
    "\n",
    "Now, to use the interactive interpreter to import the zoo module and call its hours() function, follow these steps:\n",
    "\n",
    "Step 1: Open your preferred Python interpreter, such as the Python shell or an IDE with an integrated Python console.\n",
    "\n",
    "Step 2: In the Python interpreter, type the following commands:\n",
    "\n",
    "\n",
    "\n",
    "import zoo\n",
    "\n",
    "zoo.hours()\n",
    "\n",
    "\n",
    "Step 3: Press Enter.\n",
    "\n",
    "The output should be:\n",
    "\n",
    "Open 9-5 daily\n",
    "\n"
   ]
  },
  {
   "cell_type": "markdown",
   "id": "cdfa9938",
   "metadata": {},
   "source": [
    "# 2. In the interactive interpreter, import the zoo module as menagerie and call its hours() function."
   ]
  },
  {
   "cell_type": "markdown",
   "id": "95f5641e",
   "metadata": {},
   "source": [
    "To import the zoo module as menagerie and call its hours() function in the interactive interpreter, follow these steps:\n",
    "\n",
    "Step 1: Open your preferred Python interpreter, such as the Python shell or an IDE with an integrated Python console.\n",
    "\n",
    "Step 2: In the Python interpreter, type the following commands:\n",
    "\n",
    "import zoo as menagerie\n",
    "\n",
    "menagerie.hours()\n",
    "\n",
    "\n",
    "\n",
    "Step 3: Press Enter.\n",
    "\n",
    "The output should be:\n",
    "\n",
    "\n",
    "Open 9-5 daily\n"
   ]
  },
  {
   "cell_type": "markdown",
   "id": "23ea649a",
   "metadata": {},
   "source": [
    "# 3. Using the interpreter, explicitly import and call the hours() function from zoo."
   ]
  },
  {
   "cell_type": "markdown",
   "id": "27972120",
   "metadata": {},
   "source": [
    "To explicitly import and call the hours() function from the zoo module using the interpreter, follow these steps:\n",
    "\n",
    "Step 1: Open your preferred Python interpreter, such as the Python shell or an IDE with an integrated Python console.\n",
    "\n",
    "Step 2: In the Python interpreter, type the following commands:\n",
    "\n",
    "\n",
    "from zoo import hours\n",
    "\n",
    "hours()\n",
    "\n",
    "\n",
    "\n",
    "Step 3: Press Enter.\n",
    "\n",
    "The output should be:\n",
    "\n",
    "\n",
    "\n",
    "Open 9-5 daily\n",
    "\n"
   ]
  },
  {
   "cell_type": "markdown",
   "id": "bd0bab91",
   "metadata": {},
   "source": [
    "# 4. Import the hours() function as info and call it."
   ]
  },
  {
   "cell_type": "markdown",
   "id": "159d2bd8",
   "metadata": {},
   "source": [
    "To import the hours() function from the zoo module as info and call it, follow these steps:\n",
    "\n",
    "Step 1: Open your preferred Python interpreter, such as the Python shell or an IDE with an integrated Python console.\n",
    "\n",
    "Step 2: In the Python interpreter, type the following commands:\n",
    "\n",
    "\n",
    "from zoo import hours as info\n",
    "\n",
    "info()\n",
    "\n",
    "\n",
    "Step 3: Press Enter.\n",
    "\n",
    "The output should be:\n",
    "\n",
    "Open 9-5 daily\n",
    "\n",
    "        \n",
    "        \n",
    "        "
   ]
  },
  {
   "cell_type": "markdown",
   "id": "d2fbaf2f",
   "metadata": {},
   "source": [
    "# 5. Create a plain dictionary with the key-value pairs &#39;a&#39;: 1, &#39;b&#39;: 2, and &#39;c&#39;: 3, and print it out."
   ]
  },
  {
   "cell_type": "markdown",
   "id": "c0e7a18e",
   "metadata": {},
   "source": [
    "To create a plain dictionary with the key-value pairs 'a': 1, 'b': 2, and 'c': 3, and print it out, you can follow these steps:\n",
    "\n",
    "Step 1: Open your preferred Python interpreter, such as the Python shell or an IDE with an integrated Python console.\n",
    "\n",
    "Step 2: In the Python interpreter, type the following command:\n",
    "\n",
    "\n",
    "\n",
    "my_dict = {'a': 1, 'b': 2, 'c': 3}\n",
    "\n",
    "print(my_dict)\n",
    "\n",
    "\n",
    "\n",
    "\n",
    "Step 3: Press Enter.\n",
    "\n",
    "The output should be:\n",
    "\n",
    "\n",
    "{'a': 1, 'b': 2, 'c': 3}\n",
    "\n",
    "\n",
    "        \n",
    "        \n",
    "        \n",
    "        \n",
    "        "
   ]
  },
  {
   "cell_type": "markdown",
   "id": "792f5330",
   "metadata": {},
   "source": [
    "# 6.Make an OrderedDict called fancy from the same pairs listed in 5 and print it. Did it print in the same order as plain?"
   ]
  },
  {
   "cell_type": "markdown",
   "id": "97cf12c0",
   "metadata": {},
   "source": [
    "To create an OrderedDict called fancy with the same key-value pairs listed in question 5 and print it, you can follow these steps:\n",
    "\n",
    "Step 1: Make sure you have the collections module imported. You can do this by including the following line at the beginning of your script or in the Python interpreter:\n",
    "        \n",
    "        \n",
    "        from collections import OrderedDict\n",
    "        \n",
    "        \n",
    "Step 2: In the Python interpreter, type the following commands:\n",
    "\n",
    "fancy = OrderedDict([('a', 1), ('b', 2), ('c', 3)])\n",
    "\n",
    "print(fancy)\n",
    "\n",
    "Step 3: Press Enter.\n",
    "\n",
    "The output should be:\n",
    "    \n",
    "    OrderedDict([('a', 1), ('b', 2), ('c', 3)])\n",
    "\n",
    "\n",
    "        \n",
    "        \n",
    "        "
   ]
  },
  {
   "cell_type": "markdown",
   "id": "41726fc6",
   "metadata": {},
   "source": [
    "# 7. Make a default dictionary called dict_of_lists and pass it the argument list. Make the list dict_of_lists[&#39;a&#39;] and append the value &#39;something for a&#39; to it in one assignment. Print dict_of_lists[&#39;a&#39;]."
   ]
  },
  {
   "cell_type": "markdown",
   "id": "a2d06564",
   "metadata": {},
   "source": [
    "To create a defaultdict called dict_of_lists and append the value 'something for a' to the list dict_of_lists['a'] in one assignment, and then print dict_of_lists['a'], you can follow these steps:\n",
    "\n",
    "Step 1: Make sure you have the collections module imported. You can do this by including the following line at the beginning of your script or in the Python interpreter:\n",
    "\n",
    "\n",
    "from collections import defaultdict\n",
    "\n",
    "\n",
    "Step 2: In the Python interpreter, type the following commands:\n",
    "\n",
    "\n",
    "dict_of_lists = defaultdict(list)\n",
    "\n",
    "dict_of_lists['a'].append('something for a')\n",
    "\n",
    "print(dict_of_lists['a'])\n",
    "\n",
    "\n",
    "Step 3: Press Enter.\n",
    "\n",
    "The output should be:\n",
    "\n",
    "['something for a']\n",
    "\n",
    "\n",
    "\n",
    "\n"
   ]
  },
  {
   "cell_type": "code",
   "execution_count": null,
   "id": "b8f99f48",
   "metadata": {},
   "outputs": [],
   "source": []
  }
 ],
 "metadata": {
  "kernelspec": {
   "display_name": "Python 3 (ipykernel)",
   "language": "python",
   "name": "python3"
  },
  "language_info": {
   "codemirror_mode": {
    "name": "ipython",
    "version": 3
   },
   "file_extension": ".py",
   "mimetype": "text/x-python",
   "name": "python",
   "nbconvert_exporter": "python",
   "pygments_lexer": "ipython3",
   "version": "3.9.7"
  }
 },
 "nbformat": 4,
 "nbformat_minor": 5
}
