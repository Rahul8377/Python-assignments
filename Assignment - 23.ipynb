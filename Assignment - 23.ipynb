{
 "cells": [
  {
   "cell_type": "markdown",
   "id": "bc9fc048",
   "metadata": {},
   "source": [
    "# Assignment -23"
   ]
  },
  {
   "cell_type": "markdown",
   "id": "a651f80e",
   "metadata": {},
   "source": [
    "# 1. What is the result of the code, and why?\n",
    "&gt;&gt;&gt; def func(a, b=6, c=8):\n",
    "print(a, b, c)\n",
    "&gt;&gt;&gt; func(1, 2)"
   ]
  },
  {
   "cell_type": "code",
   "execution_count": null,
   "id": "4d7e1b50",
   "metadata": {},
   "outputs": [],
   "source": [
    "1 2 8\n",
    "\n",
    "\n",
    "Explanation:\n",
    "The function func() is defined with three parameters: a, b, and c. The parameter a is a positional argument, while b and c are keyword arguments with default values.\n",
    "\n",
    "When the function func(1, 2) is called, the value 1 is assigned to the parameter a, and 2 is assigned to the parameter b. Since no value is provided for the parameter c, it takes its default value of 8.\n",
    "\n",
    "Therefore, when the function is executed, it will print 1 for a, 2 for b, and 8 for c, resulting in the output 1 2 8."
   ]
  },
  {
   "cell_type": "markdown",
   "id": "31b04e31",
   "metadata": {},
   "source": [
    "# 2. What is the result of this code, and why?\n",
    "&gt;&gt;&gt; def func(a, b, c=5):\n",
    "print(a, b, c)\n",
    "&gt;&gt;&gt; func(1, c=3, b=2)"
   ]
  },
  {
   "cell_type": "code",
   "execution_count": null,
   "id": "d27b8beb",
   "metadata": {},
   "outputs": [],
   "source": [
    "The result of the code will be:\n",
    "    \n",
    "    1 2 3\n",
    "\n",
    "    \n",
    "    \n",
    "Explanation:\n",
    "The function func() is defined with three parameters: a, b, and c. All three parameters are required parameters without default values.\n",
    "\n",
    "When the function func(1, c=3, b=2) is called, the value 1 is assigned to the parameter a. The keyword arguments c=3 and b=2 explicitly specify the values for the parameters c and b respectively.\n",
    "\n",
    "Therefore, when the function is executed, it will print 1 for a, 2 for b, and 3 for c, resulting in the output 1 2 3. The order of the keyword arguments doesn't matter as long as they are correctly specified.    "
   ]
  },
  {
   "cell_type": "markdown",
   "id": "11584e85",
   "metadata": {},
   "source": [
    "# 3. How about this code: what is its result, and why?\n",
    "&gt;&gt;&gt; def func(a, *pargs):\n",
    "print(a, pargs)\n",
    "&gt;&gt;&gt; func(1, 2, 3)"
   ]
  },
  {
   "cell_type": "code",
   "execution_count": null,
   "id": "ad318e62",
   "metadata": {},
   "outputs": [],
   "source": [
    "The result of the code will be:\n",
    "    \n",
    "1 (2, 3)\n",
    "\n",
    "\n",
    "Explanation:\n",
    "The function func() is defined with a parameter a and *pargs. The *pargs parameter is used to collect any additional positional arguments passed to the function.\n",
    "\n",
    "When the function func(1, 2, 3) is called, the value 1 is assigned to the parameter a, and the values 2 and 3 are collected into the pargs parameter as a tuple (2, 3).\n",
    "\n",
    "Therefore, when the function is executed, it will print 1 for a and (2, 3) for pargs, resulting in the output 1 (2, 3). The *pargs allows the function to accept any number of additional positional arguments after the required a parameter."
   ]
  },
  {
   "cell_type": "markdown",
   "id": "a6426a82",
   "metadata": {},
   "source": [
    "# 4. What does this code print, and why?\n",
    "&gt;&gt;&gt; def func(a, **kargs):\n",
    "print(a, kargs)\n",
    "&gt;&gt;&gt; func(a=1, c=3, b=2)"
   ]
  },
  {
   "cell_type": "code",
   "execution_count": null,
   "id": "6f3fd3a3",
   "metadata": {},
   "outputs": [],
   "source": [
    "The code will print:\n",
    "    \n",
    "    1 {'c': 3, 'b': 2}\n",
    "Explanation:\n",
    "The function func() is defined with a parameter a and **kargs. The **kargs parameter is used to collect any additional keyword arguments passed to the function.\n",
    "\n",
    "When the function func(a=1, c=3, b=2) is called, the value 1 is assigned to the parameter a, and the keyword arguments c=3 and b=2 are collected into the kargs parameter as a dictionary {'c': 3, 'b': 2}.\n",
    "\n",
    "Therefore, when the function is executed, it will print 1 for a and {'c': 3, 'b': 2} for kargs, resulting in the output 1 {'c': 3, 'b': 2}. The **kargs allows the function to accept any number of additional keyword arguments after the required a parameter."
   ]
  },
  {
   "cell_type": "markdown",
   "id": "ddc4079d",
   "metadata": {},
   "source": [
    "# 5. What gets printed by this, and explain?\n",
    "&gt;&gt;&gt; def func(a, b, c=8, d=5): print(a, b, c, d)\n",
    "&gt;&gt;&gt; func(1, *(5, 6))"
   ]
  },
  {
   "cell_type": "code",
   "execution_count": null,
   "id": "808e6bbe",
   "metadata": {},
   "outputs": [],
   "source": [
    "The code will print:\n",
    "    \n",
    "    1 5 6 5\n",
    "\n",
    "    \n",
    "\n",
    "The code will print:\n",
    "\n",
    "Copy code\n",
    "1 5 6 5\n",
    "Explanation:\n",
    "The function func() is defined with four parameters: a, b, c, and d. The parameters a and b are required parameters, while c and d have default values of 8 and 5 respectively.\n",
    "\n",
    "When the function func(1, *(5, 6)) is called, the value 1 is assigned to the parameter a, and the *(5, 6) syntax is used to unpack the tuple (5, 6). The value 5 is assigned to the parameter b, and the value 6 is assigned to the next available parameter, which is c in this case. Since no value is provided for the last parameter d, it takes its default value of 5.\n",
    "\n",
    "Therefore, when the function is executed, it will print 1 for a, 5 for b, 6 for c, and 5 for d, resulting in the output 1 5 6 5. The unpacking operation allows us to pass multiple values as separate positional arguments."
   ]
  },
  {
   "cell_type": "markdown",
   "id": "315f4a59",
   "metadata": {},
   "source": [
    "# 6. what is the result of this, and explain?\n",
    "&gt;&gt;&gt; def func(a, b, c): a = 2; b[0] = &#39;x&#39;; c[&#39;a&#39;] = &#39;y&#39;\n",
    "&gt;&gt;&gt; l=1; m=[1]; n={&#39;a&#39;:0}\n",
    "&gt;&gt;&gt; func(l, m, n)\n",
    "\n",
    "&gt;&gt;&gt; l, m, n"
   ]
  },
  {
   "cell_type": "code",
   "execution_count": null,
   "id": "d93b74cc",
   "metadata": {},
   "outputs": [],
   "source": [
    "The result of the code will be:\n",
    "    \n",
    "    (1, ['x'], {'a': 'y'})\n",
    "\n",
    "    \n",
    "Explanation:\n",
    "The function func() takes three parameters: a, b, and c. Inside the function, the value of a is reassigned to 2, the first element of list b is modified to 'x', and the value associated with the key 'a' in the dictionary c is changed to 'y'.\n",
    "\n",
    "In the code snippet provided, l is assigned the value 1, m is assigned a list containing [1], and n is assigned a dictionary containing {'a': 0}.\n",
    "\n",
    "When the function func(l, m, n) is called, the values of l, m, and n are passed as arguments to the function. Since lists and dictionaries are mutable objects, any modifications made to them inside the function will affect the original objects.\n",
    "\n",
    "Therefore, after the function call, the values of l, m, and n will be:\n",
    "\n",
    "l remains unchanged and is still 1 because integers are immutable.\n",
    "m has its first element modified to 'x' inside the function, so the value of m will be ['x'].\n",
    "n has its value associated with the key 'a' changed to 'y' inside the function, so the value of n will be {'a': 'y'}.\n",
    "Hence, the result of l, m, n will be (1, ['x'], {'a': 'y'})."
   ]
  }
 ],
 "metadata": {
  "kernelspec": {
   "display_name": "Python 3 (ipykernel)",
   "language": "python",
   "name": "python3"
  },
  "language_info": {
   "codemirror_mode": {
    "name": "ipython",
    "version": 3
   },
   "file_extension": ".py",
   "mimetype": "text/x-python",
   "name": "python",
   "nbconvert_exporter": "python",
   "pygments_lexer": "ipython3",
   "version": "3.9.7"
  }
 },
 "nbformat": 4,
 "nbformat_minor": 5
}
