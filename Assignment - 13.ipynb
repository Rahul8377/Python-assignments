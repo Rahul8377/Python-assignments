{
 "cells": [
  {
   "cell_type": "markdown",
   "id": "5cd5dc5e",
   "metadata": {},
   "source": [
    "# Assignment-13"
   ]
  },
  {
   "cell_type": "markdown",
   "id": "1ad5bc3c",
   "metadata": {},
   "source": [
    "# 1. What advantages do Excel spreadsheets have over CSV spreadsheets?"
   ]
  },
  {
   "cell_type": "markdown",
   "id": "fa284969",
   "metadata": {},
   "source": [
    "Excel spreadsheets have several advantages over CSV spreadsheets, including:\n",
    "\n",
    "Formatting: Excel spreadsheets allow for much more advanced formatting options such as font style and color, cell borders, merged cells, and more. This makes it easier to present data in a more visually appealing way.\n",
    "\n",
    "Formulas and functions: Excel has a wide variety of built-in formulas and functions that can be used to manipulate and analyze data in various ways. CSV files do not support these functionalities.\n",
    "\n",
    "Data validation: Excel allows for data validation, which means you can restrict the type of data that can be entered into a cell. For example, you can limit entries to only accept numbers or dates.\n",
    "\n",
    "Charts and graphs: Excel has powerful charting capabilities, making it easy to create and customize a variety of charts and graphs to visually represent your data. This is not possible with CSV files.\n",
    "\n",
    "Collaboration: Excel spreadsheets can be shared and edited collaboratively, allowing multiple people to work on the same file simultaneously. While CSV files can also be shared, they do not support collaborative editing.\n",
    "\n",
    "Overall, Excel spreadsheets are a more versatile and powerful tool for data analysis and presentation than CSV spreadsheets. However, CSV files are often preferred when dealing with large datasets or when compatibility with other software programs is a concern."
   ]
  },
  {
   "cell_type": "markdown",
   "id": "61f4390f",
   "metadata": {},
   "source": [
    "# 2.What do you pass to csv.reader() and csv.writer() to create reader and writer objects?"
   ]
  },
  {
   "cell_type": "markdown",
   "id": "8c753f35",
   "metadata": {},
   "source": [
    "To create a reader object using the csv.reader() function, you need to pass a file object that contains the CSV data you want to read. For example, you can pass the result of opening a CSV file using the built-in open() function:"
   ]
  },
  {
   "cell_type": "markdown",
   "id": "07f40490",
   "metadata": {},
   "source": [
    "import csv\n",
    "\n",
    "with open('data.csv', 'r') as csv_file:\n",
    "    csv_reader = csv.reader(csv_file)\n",
    "    # process the CSV data using the csv_reader object\n"
   ]
  },
  {
   "cell_type": "markdown",
   "id": "8cb89869",
   "metadata": {},
   "source": [
    "Here, data.csv is the name of the CSV file that you want to read, and 'r' indicates that you want to open the file in read-only mode.\n",
    "\n",
    "To create a writer object using the csv.writer() function, you need to pass a file object that you want to write the CSV data to. For example:"
   ]
  },
  {
   "cell_type": "markdown",
   "id": "0bb008ac",
   "metadata": {},
   "source": [
    "import csv\n",
    "\n",
    "with open('output.csv', 'w', newline='') as csv_file:\n",
    "    csv_writer = csv.writer(csv_file)\n",
    "    # write data to the CSV file using the csv_writer object\n"
   ]
  },
  {
   "cell_type": "markdown",
   "id": "fa610ccc",
   "metadata": {},
   "source": [
    "# 3. What modes do File objects for reader and writer objects need to be opened in?\n"
   ]
  },
  {
   "cell_type": "markdown",
   "id": "94d4f324",
   "metadata": {},
   "source": [
    "For both csv.reader() and csv.writer(), the file objects need to be opened in different modes.\n",
    "\n",
    "For csv.reader(), you need to open the file object in read-only mode ('r'). This is because the csv.reader() function is used to read data from a CSV file.\n",
    "\n",
    "For example:"
   ]
  },
  {
   "cell_type": "markdown",
   "id": "d5703ac3",
   "metadata": {},
   "source": [
    "import csv\n",
    "\n",
    "with open('data.csv', 'r') as csv_file:\n",
    "    csv_reader = csv.reader(csv_file)\n",
    "    # process the CSV data using the csv_reader object\n"
   ]
  },
  {
   "cell_type": "markdown",
   "id": "2df884c4",
   "metadata": {},
   "source": [
    "For csv.writer(), you need to open the file object in write mode ('w'). This is because the csv.writer() function is used to write data to a CSV file.\n",
    "\n",
    "For example:"
   ]
  },
  {
   "cell_type": "markdown",
   "id": "92a74c46",
   "metadata": {},
   "source": [
    "import csv\n",
    "\n",
    "with open('output.csv', 'w', newline='') as csv_file:\n",
    "    csv_writer = csv.writer(csv_file)\n",
    "    # write data to the CSV file using the csv_writer object\n"
   ]
  },
  {
   "cell_type": "markdown",
   "id": "a5bcf00f",
   "metadata": {},
   "source": [
    "# 4. What method takes a list argument and writes it to a CSV file?"
   ]
  },
  {
   "cell_type": "markdown",
   "id": "e8ee6b4b",
   "metadata": {},
   "source": [
    "The csv.writer() object has a writerow() method that takes a list argument and writes it to a CSV file as a single row. This method is used to write one row of data at a time.\n",
    "\n",
    "Here's an example:"
   ]
  },
  {
   "cell_type": "markdown",
   "id": "e238ca5f",
   "metadata": {},
   "source": [
    "import csv\n",
    "\n",
    "data = [['John', 'Doe', '25'],\n",
    "        ['Jane', 'Doe', '30'],\n",
    "        ['Bob', 'Smith', '45']]\n",
    "\n",
    "with open('output.csv', 'w', newline='') as csv_file:\n",
    "    csv_writer = csv.writer(csv_file)\n",
    "    for row in data:\n",
    "        csv_writer.writerow(row)\n"
   ]
  },
  {
   "cell_type": "markdown",
   "id": "5c356437",
   "metadata": {},
   "source": [
    "In this example, the data list contains three rows of data, where each row is represented as a list of values. The for loop is used to iterate through the rows of data and write them to a CSV file using the writerow() method of the csv.writer() object.\n",
    "\n",
    "After running this code, a new CSV file named output.csv will be created in the current directory containing the following data:"
   ]
  },
  {
   "cell_type": "markdown",
   "id": "e0eb749b",
   "metadata": {},
   "source": [
    "John,Doe,25\n",
    "Jane,Doe,30\n",
    "Bob,Smith,45\n"
   ]
  },
  {
   "cell_type": "markdown",
   "id": "cc280357",
   "metadata": {},
   "source": [
    "Each row of the data list has been written as a single row in the CSV file.\n",
    "\n",
    "\n",
    "\n",
    "\n"
   ]
  },
  {
   "cell_type": "markdown",
   "id": "8340666e",
   "metadata": {},
   "source": [
    "# 5. What do the keyword arguments delimiter and line terminator do?"
   ]
  },
  {
   "cell_type": "markdown",
   "id": "d33045a7",
   "metadata": {},
   "source": [
    "The delimiter and lineterminator keyword arguments are used to specify the character(s) used to separate fields and lines in a CSV file when using the csv.writer() object.\n",
    "\n",
    "delimiter: specifies the character used to separate fields in a CSV file. By default, this is a comma (,), but it can be set to any other character, such as a tab (\\t), a semicolon (;), or a vertical bar (|). For example:"
   ]
  },
  {
   "cell_type": "markdown",
   "id": "93d249db",
   "metadata": {},
   "source": [
    "import csv\n",
    "\n",
    "with open('output.csv', 'w', newline='') as csv_file:\n",
    "\n",
    "    csv_writer = csv.writer(csv_file, delimiter='\\t')\n",
    "    \n",
    "    csv_writer.writerow(['John', 'Doe', '25'])\n",
    "    \n",
    "    csv_writer.writerow(['Jane', 'Doe', '30'])\n"
   ]
  },
  {
   "cell_type": "markdown",
   "id": "308c8d9c",
   "metadata": {},
   "source": [
    "lineterminator: specifies the character used to terminate each line in a CSV file. By default, this is the newline character (\\n), but it can be set to any other character, such as a carriage return (\\r) or a combination of both (\\r\\n). For example:"
   ]
  },
  {
   "cell_type": "markdown",
   "id": "5fd1cf98",
   "metadata": {},
   "source": [
    "import csv\n",
    "\n",
    "with open('output.csv', 'w', newline='') as csv_file:\n",
    "    \n",
    "    csv_writer = csv.writer(csv_file, lineterminator='\\r\\n')\n",
    "    \n",
    "    csv_writer.writerow(['John', 'Doe', '25'])\n",
    "    \n",
    "    csv_writer.writerow(['Jane', 'Doe', '30'])\n"
   ]
  },
  {
   "cell_type": "markdown",
   "id": "2d896cca",
   "metadata": {},
   "source": [
    "# 6. What function takes a string of JSON data and returns a Python data structure?"
   ]
  },
  {
   "cell_type": "markdown",
   "id": "73419d7e",
   "metadata": {},
   "source": [
    "The json.loads() function takes a string of JSON data and returns a Python data structure. The function parses the JSON data and converts it into a Python object, such as a dictionary or a list.\n",
    "\n",
    "Here's an example:\n",
    "\n",
    "\n",
    "import json\n",
    "\n",
    "json_data = '{\"name\": \"John\", \"age\": 30, \"city\": \"New York\"}'\n",
    "\n",
    "python_data = json.loads(json_data)\n",
    "\n",
    "print(python_data)\n"
   ]
  },
  {
   "cell_type": "markdown",
   "id": "0fce601c",
   "metadata": {},
   "source": [
    "In this example, the json_data variable contains a string of JSON data. The json.loads() function is used to parse the JSON data and convert it into a Python dictionary. The resulting python_data variable will contain the following"
   ]
  },
  {
   "cell_type": "markdown",
   "id": "9a790fe8",
   "metadata": {},
   "source": [
    "{\n",
    "    \"name\": \"John\",\n",
    "    \n",
    "    \"age\": 30,\n",
    "    \n",
    "    \"city\": \"New York\"\n",
    "}\n"
   ]
  },
  {
   "cell_type": "markdown",
   "id": "d5be571f",
   "metadata": {},
   "source": [
    "You can then access the data in the dictionary using Python dictionary syntax, for example:\n",
    "\n",
    "print(python_data['name']) # Output: John\n",
    "\n",
    "print(python_data['age']) # Output: 30\n",
    "\n",
    "print(python_data['city']) # Output: New York\n"
   ]
  },
  {
   "cell_type": "markdown",
   "id": "bb2ee7c1",
   "metadata": {},
   "source": [
    "# 7. What function takes a Python data structure and returns a string of JSON data?"
   ]
  },
  {
   "cell_type": "markdown",
   "id": "d2612cbd",
   "metadata": {},
   "source": [
    "The json.dumps() function takes a Python data structure and returns a string of JSON data. The function converts the Python object into a JSON-formatted string.\n",
    "\n",
    "Here's an example:\n",
    "\n",
    "import json\n",
    "\n",
    "python_data = {\"name\": \"John\", \"age\": 30, \"city\": \"New York\"}\n",
    "\n",
    "json_data = json.dumps(python_data)\n",
    "\n",
    "print(json_data)\n",
    "\n",
    "\n",
    "\n",
    "\n",
    "\n",
    "\n",
    "In this example, the python_data variable contains a Python dictionary. The json.dumps() function is used to convert the dictionary into a JSON-formatted string. The resulting json_data variable will contain the following string:\n",
    "    \n",
    "    \n",
    "    \n",
    "    {\"name\": \"John\", \"age\": 30, \"city\": \"New York\"}\n",
    "\n",
    "    \n",
    "    You can then use this string as needed, for example to write it to a file or send it over a network.\n",
    "\n",
    "Note that the json.dumps() function also takes optional arguments, such as indent and sort_keys, which can be used to control the formatting of the resulting JSON string."
   ]
  },
  {
   "cell_type": "code",
   "execution_count": null,
   "id": "7aa9d809",
   "metadata": {},
   "outputs": [],
   "source": []
  }
 ],
 "metadata": {
  "kernelspec": {
   "display_name": "Python 3 (ipykernel)",
   "language": "python",
   "name": "python3"
  },
  "language_info": {
   "codemirror_mode": {
    "name": "ipython",
    "version": 3
   },
   "file_extension": ".py",
   "mimetype": "text/x-python",
   "name": "python",
   "nbconvert_exporter": "python",
   "pygments_lexer": "ipython3",
   "version": "3.9.7"
  }
 },
 "nbformat": 4,
 "nbformat_minor": 5
}
