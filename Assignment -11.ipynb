{
 "cells": [
  {
   "cell_type": "markdown",
   "id": "ff72ee97",
   "metadata": {},
   "source": [
    "# 1. Create an assert statement that throws an AssertionError if the variable spam is a negative integer."
   ]
  },
  {
   "cell_type": "markdown",
   "id": "13bee2a3",
   "metadata": {},
   "source": [
    "assert spam >= 0, \"Spam must be a non-negative integer\"\n"
   ]
  },
  {
   "cell_type": "markdown",
   "id": "fb77d425",
   "metadata": {},
   "source": [
    "# 2. Write an assert statement that triggers an Assertion Error if the variables eggs and bacon containstrings that are the same as each other, even if their cases are different (that is, 'hello' and 'hello' are considered the same, and 'goodbye' and 'GOODbye' are also considered the same)."
   ]
  },
  {
   "cell_type": "markdown",
   "id": "5bb9ac9f",
   "metadata": {},
   "source": [
    "assert eggs.lower() != bacon.lower(), \"Eggs and bacon must be different strings\"\n"
   ]
  },
  {
   "cell_type": "markdown",
   "id": "6c67818d",
   "metadata": {},
   "source": [
    "# 3. Create an assert statement that throws an AssertionError every time."
   ]
  },
  {
   "cell_type": "markdown",
   "id": "21580393",
   "metadata": {},
   "source": [
    "assert False, \"This assertion will always trigger an AssertionError\"\n"
   ]
  },
  {
   "cell_type": "markdown",
   "id": "fd52619d",
   "metadata": {},
   "source": [
    "# 4. What are the two lines that must be present in your software in order to call logging.debug()?"
   ]
  },
  {
   "cell_type": "markdown",
   "id": "5af9a52d",
   "metadata": {},
   "source": [
    "In order to call logging.debug(), you need to have the following two lines in your code:\n",
    "\n",
    "\n",
    "\n",
    "import logging\n",
    "logging.basicConfig(level=logging.DEBUG)\n",
    "\n",
    "The first line imports the logging module, and the second line sets the logging level to DEBUG, which allows for logging.debug() to be called."
   ]
  },
  {
   "cell_type": "markdown",
   "id": "652938b8",
   "metadata": {},
   "source": [
    "# 5. What are the two lines that your program must have in order to have logging.debug() send a logging message to a file named programLog.txt?"
   ]
  },
  {
   "cell_type": "markdown",
   "id": "51d015cf",
   "metadata": {},
   "source": [
    "In order to have logging.debug() send a logging message to a file named programLog.txt, you need to have the following two lines in your code:\n",
    "    import logging\n",
    "logging.basicConfig(filename='programLog.txt', level=logging.DEBUG)\n",
    "\n",
    "The first line imports the logging module, and the second line sets the logging level to DEBUG and specifies the log file as programLog.txt. This will cause all logging.debug() messages to be written to the specified file."
   ]
  },
  {
   "cell_type": "markdown",
   "id": "8ddbd834",
   "metadata": {},
   "source": [
    "# 6. What are the five levels of logging?"
   ]
  },
  {
   "cell_type": "markdown",
   "id": "3ca6eba8",
   "metadata": {},
   "source": [
    "The five levels of logging in Python's logging module are, in increasing order of severity:\n",
    "\n",
    "DEBUG: Detailed information, typically of interest only when diagnosing problems.\n",
    "\n",
    "INFO: Confirmation that things are working as expected.\n",
    "\n",
    "WARNING: An indication that something unexpected happened or indicative of some problem in the near future (e.g., 'disk space low'). The software is still working as expected.\n",
    "\n",
    "ERROR: Due to a more serious problem, the software has not been able to perform some function.\n",
    "\n",
    "CRITICAL: A very serious error, indicating that the program itself may be unable to continue running.\n",
    "\n",
    "Each level includes all the messages of the levels below it. For example, if the logging level is set to WARNING, messages at the WARNING, ERROR, and CRITICAL levels will be captured, but DEBUG and INFO messages will be ignored."
   ]
  },
  {
   "cell_type": "markdown",
   "id": "1d6c3ea2",
   "metadata": {},
   "source": [
    "# 7. What line of code would you add to your software to disable all logging messages?"
   ]
  },
  {
   "cell_type": "markdown",
   "id": "5c37137f",
   "metadata": {},
   "source": [
    "The specific line of code will depend on the programming language and logging library you are using.\n",
    "\n",
    "However, a common way to disable all logging messages in many logging libraries is to set the logging level to the lowest level, such as \"DEBUG\".\n",
    "\n",
    "For example, in Python using the logging library, you can use the following line of code:\n",
    "    \n",
    "    logging.basicConfig(level=logging.CRITICAL)\n",
    "\n",
    "This will ensure that only log messages with severity \"CRITICAL\" and above are logged."
   ]
  },
  {
   "cell_type": "markdown",
   "id": "89f96ee9",
   "metadata": {},
   "source": [
    "# 8.Why is using logging messages better than using print() to display the same message?"
   ]
  },
  {
   "cell_type": "markdown",
   "id": "d23568e0",
   "metadata": {},
   "source": [
    "Using logging messages instead of print() to display messages has several advantages:\n",
    "\n",
    "Flexibility: Logging provides multiple levels of severity, such as DEBUG, INFO, WARNING, ERROR, and CRITICAL, which can be used to categorize the messages and control their verbosity. This allows developers to filter out low-level messages, or increase verbosity when debugging.\n",
    "\n",
    "Persistence: Logs can be saved to a file or other output streams, allowing developers to easily capture the messages for later analysis. This is useful for long-running processes, where output from print() may not be available.\n",
    "\n",
    "Separation of concerns: Logging provides a mechanism for separating the generation of log messages from their output and handling. This allows the developer to focus on writing code that generates the log messages, while someone else can configure the system to handle and process the logs.\n",
    "\n",
    "Centralization: Logs can be sent to a central location, such as a log server, where they can be analyzed, visualized, and stored in a structured way. This enables developers to easily monitor and debug their applications, even in a distributed system.\n",
    "\n",
    "Standardization: Logging provides a standard interface that can be used across different applications and libraries. This allows developers to write applications that can produce log messages in a consistent format, making it easier to analyze and debug issues.\n",
    "\n",
    "\n",
    "\n"
   ]
  },
  {
   "cell_type": "markdown",
   "id": "35afd8ac",
   "metadata": {},
   "source": [
    "# 9. What are the differences between the Step Over, Step In, and Step Out buttons in the debugger?"
   ]
  },
  {
   "cell_type": "markdown",
   "id": "d29083be",
   "metadata": {},
   "source": [
    "The \"Step Over\", \"Step In\", and \"Step Out\" buttons are part of the debugging functionality in many integrated development environments (IDEs). They allow you to control the execution of your code and inspect its behavior as it runs.\n",
    "\n",
    "\"Step Over\": This button allows you to step over the current line of code, meaning that if the current line is a function call, the function will be executed, but the debugger will not enter it. Instead, it will move to the next line of code in the current function.\n",
    "\n",
    "\"Step In\": This button allows you to step into the current line of code, meaning that if the current line is a function call, the debugger will enter the function and move to the first line of code in it.\n",
    "\n",
    "\"Step Out\": This button allows you to step out of the current function, meaning that the current function will be executed until its completion, and then the debugger will return to the caller of the function.\n",
    "\n",
    "These buttons are useful for controlling the flow of your code and inspecting the values of variables as your code runs, which can help you find and fix bugs more efficiently.\n",
    "\n",
    "\n"
   ]
  },
  {
   "cell_type": "markdown",
   "id": "fa6833d3",
   "metadata": {},
   "source": [
    "# 10.After you click Continue, when will the debugger stop ?"
   ]
  },
  {
   "cell_type": "markdown",
   "id": "56093bdb",
   "metadata": {},
   "source": [
    "When you click the \"Continue\" button in the debugger, it resumes the execution of your code until either:\n",
    "\n",
    "A breakpoint is reached: If there are breakpoints set in your code, the debugger will stop when it reaches one of those breakpoints.\n",
    "\n",
    "An exception occurs: If an exception is thrown while your code is running, the debugger will stop at the point where the exception is raised.\n",
    "\n",
    "The program finishes execution: If there are no breakpoints or exceptions encountered, the debugger will continue to run the code until it finishes execution.\n",
    "\n",
    "It's important to note that the behavior of the debugger will depend on the specific IDE and debugger you are using, and there may be other conditions that cause the debugger to stop.\n",
    "\n",
    "\n",
    "\n"
   ]
  },
  {
   "cell_type": "markdown",
   "id": "3439a126",
   "metadata": {},
   "source": [
    "# 11. What is the concept of a breakpoint?"
   ]
  },
  {
   "cell_type": "markdown",
   "id": "1caf755c",
   "metadata": {},
   "source": [
    "A breakpoint is a feature in many integrated development environments (IDEs) that allows you to pause the execution of your code at a specific line. When a breakpoint is reached, the debugger will stop and allow you to inspect the state of your program, including the values of variables and the call stack.\n",
    "\n",
    "Breakpoints are a useful tool for debugging your code and finding issues. You can set a breakpoint by clicking on the line of code you want to pause at, or by using a command in your debugger. Once a breakpoint is set, you can use the debugger to step through your code and inspect the values of variables and the call stack, which can help you identify the root cause of bugs.\n",
    "\n",
    "It's important to note that breakpoints only pause the execution of your code when you are running the program in debug mode. When you run the program normally, the breakpoints are ignored, and the code will run to completion without stopping.\n",
    "\n",
    "\n",
    "\n"
   ]
  },
  {
   "cell_type": "code",
   "execution_count": null,
   "id": "de4b5521",
   "metadata": {},
   "outputs": [],
   "source": []
  }
 ],
 "metadata": {
  "kernelspec": {
   "display_name": "Python 3 (ipykernel)",
   "language": "python",
   "name": "python3"
  },
  "language_info": {
   "codemirror_mode": {
    "name": "ipython",
    "version": 3
   },
   "file_extension": ".py",
   "mimetype": "text/x-python",
   "name": "python",
   "nbconvert_exporter": "python",
   "pygments_lexer": "ipython3",
   "version": "3.9.7"
  }
 },
 "nbformat": 4,
 "nbformat_minor": 5
}
