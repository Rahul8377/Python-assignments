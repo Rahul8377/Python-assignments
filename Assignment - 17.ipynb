{
 "cells": [
  {
   "cell_type": "markdown",
   "id": "7d935ada",
   "metadata": {},
   "source": [
    "# Assignment - 17"
   ]
  },
  {
   "cell_type": "markdown",
   "id": "820c90c1",
   "metadata": {},
   "source": [
    "# 1. Assign the value 7 to the variable guess_me. Then, write the conditional tests (if, else, and elif) to print the string &#39;too low&#39; if guess_me is less than 7, &#39;too high&#39; if greater than 7, and &#39;just right&#39; if equal to 7."
   ]
  },
  {
   "cell_type": "markdown",
   "id": "7edbce67",
   "metadata": {},
   "source": [
    "def guess_me(guess_me):\n",
    "\n",
    "    if guess_me < 7:\n",
    "    \n",
    "        print('too Low')\n",
    "        \n",
    "    elif guess_me > 7:\n",
    "    \n",
    "        print('too High')\n",
    "        \n",
    "    else:\n",
    "    \n",
    "        print('just Right')\n",
    "        \n",
    "\n",
    "guess_me(guess_me=7)\n",
    "\n",
    "guess_me(guess_me=5)\n",
    "\n",
    "guess_me(guess_me=15)"
   ]
  },
  {
   "cell_type": "markdown",
   "id": "c04dc87a",
   "metadata": {},
   "source": [
    "# 2. Assign the value 7 to the variable guess_me and the value 1 to the variable start. Write a while loop that compares start with guess_me. Print too low if start is less than guess me. If start equals guess_me, print &#39;found it!&#39; and exit the loop. If start is greater than guess_me, print &#39;oops&#39; and exit the loop. Increment start at the end of the loop."
   ]
  },
  {
   "cell_type": "markdown",
   "id": "93a69469",
   "metadata": {},
   "source": [
    "guess_me = 7\n",
    "\n",
    "start = 1\n",
    "\n",
    "while True:\n",
    "\n",
    "    if start < guess_me:\n",
    "    \n",
    "        print('too low')\n",
    "        \n",
    "    elif start == guess_me:\n",
    "    \n",
    "        print('found it')\n",
    "        \n",
    "        break\n",
    "        \n",
    "    else:\n",
    "    \n",
    "        print('oops')\n",
    "        \n",
    "        break\n",
    "        \n",
    "    start += 1"
   ]
  },
  {
   "cell_type": "markdown",
   "id": "dd3da72b",
   "metadata": {},
   "source": [
    "# 3. Print the following values of the list [3, 2, 1, 0] using a for loop."
   ]
  },
  {
   "cell_type": "markdown",
   "id": "b713e075",
   "metadata": {},
   "source": [
    "in_list = [3,2,1,0]\n",
    "\n",
    "for ele in in_list:\n",
    "    \n",
    "    print(ele)"
   ]
  },
  {
   "cell_type": "markdown",
   "id": "3ac39316",
   "metadata": {},
   "source": [
    "# 4. Use a list comprehension to make a list of the even numbers in range(10)"
   ]
  },
  {
   "cell_type": "markdown",
   "id": "045613fc",
   "metadata": {},
   "source": [
    "# print([x for x in range(10+1) if x%2==0 ])"
   ]
  },
  {
   "cell_type": "markdown",
   "id": "2302f8ee",
   "metadata": {},
   "source": [
    "# 5. Use a dictionary comprehension to create the dictionary squares. Use range(10) to return the keys, and use the square of each key as its value."
   ]
  },
  {
   "cell_type": "markdown",
   "id": "95d381f8",
   "metadata": {},
   "source": [
    "# Method 1\n",
    "\n",
    "print(dict([(x,pow(x,2)) for x in range(10)]))\n",
    "\n",
    "# Method 2\n",
    "\n",
    "print({x:x**2 for x in range(10)})"
   ]
  },
  {
   "cell_type": "markdown",
   "id": "31d0e077",
   "metadata": {},
   "source": [
    "# 6. Construct the set odd from the odd numbers in the range using a set comprehension (10)."
   ]
  },
  {
   "cell_type": "markdown",
   "id": "5fddfac4",
   "metadata": {},
   "source": [
    "print({x for x in range(10) if x%2 !=0})"
   ]
  },
  {
   "cell_type": "markdown",
   "id": "3ac7d46d",
   "metadata": {},
   "source": [
    "# 7. Use a generator comprehension to return the string &#39;Got &#39; and a number for the numbers in range(10). Iterate through this by using a for loop."
   ]
  },
  {
   "cell_type": "markdown",
   "id": "6c3718f9",
   "metadata": {},
   "source": [
    "gen_com = ('Got_'+str(x) for x in range(10))\n",
    "\n",
    "for ele in gen_com:\n",
    "    \n",
    "    print(ele, end=' ')"
   ]
  },
  {
   "cell_type": "markdown",
   "id": "8c17afab",
   "metadata": {},
   "source": [
    "# 8. Define a function called good that returns the list [&#39;Harry&#39;, &#39;Ron&#39;, &#39;Hermione&#39;]."
   ]
  },
  {
   "cell_type": "markdown",
   "id": "ce09f28c",
   "metadata": {},
   "source": [
    "def good():\n",
    "    \n",
    "    x =  ['Harry', 'Ron', 'Hermione']\n",
    "    \n",
    "    return x\n",
    "\n",
    "print(good())"
   ]
  },
  {
   "cell_type": "markdown",
   "id": "7d27cb33",
   "metadata": {},
   "source": [
    "# 9. Define a generator function called get_odds that returns the odd numbers from range(10). Use a for loop to find and print the third value returned."
   ]
  },
  {
   "cell_type": "markdown",
   "id": "dd79307a",
   "metadata": {},
   "source": [
    "def get_odds():\n",
    "    \n",
    "    output = []\n",
    "    \n",
    "    for ele in range(10):\n",
    "        \n",
    "        if ele%2 != 0:\n",
    "            \n",
    "            output.append(ele)\n",
    "            \n",
    "    yield output\n",
    "\n",
    "next(get_odds())[2]"
   ]
  },
  {
   "cell_type": "markdown",
   "id": "009c7ab5",
   "metadata": {},
   "source": [
    "# 10. Define an exception called OopsException. Raise this exception to see what happens. Then write the code to catch this exception and print &#39;Caught an oops&#39;."
   ]
  },
  {
   "cell_type": "markdown",
   "id": "211e2a2e",
   "metadata": {},
   "source": [
    "class OopsException(Exception):\n",
    "    \n",
    "    pass\n",
    "\n",
    "def test(input):\n",
    "    \n",
    "    if input <0:\n",
    "        \n",
    "        raise OopsException(a)\n",
    "        \n",
    "try:\n",
    "    \n",
    "    test(-100)\n",
    "    \n",
    "except Exception as e:\n",
    "    \n",
    "    print('Caught in Oops ->',e)"
   ]
  },
  {
   "cell_type": "markdown",
   "id": "b1300b90",
   "metadata": {},
   "source": [
    "# 11. Use zip() to make a dictionary called movies that pairs these lists: titles = [&#39;Creature of Habit&#39;, &#39;Crewel Fate&#39;] and plots = [&#39;A nun turns into a monster&#39;, &#39;A haunted yarn shop&#39;]."
   ]
  },
  {
   "cell_type": "markdown",
   "id": "9fe954a7",
   "metadata": {},
   "source": [
    "titles = ['Creature of Habit', 'Crewel Fate']\n",
    "\n",
    "plots = ['A nun turns into a monster', 'A haunted yarn shop']\n",
    "\n",
    "output = dict(zip(titles,plots))\n",
    "\n",
    "print(output)"
   ]
  },
  {
   "cell_type": "code",
   "execution_count": null,
   "id": "7e08dcea",
   "metadata": {},
   "outputs": [],
   "source": []
  }
 ],
 "metadata": {
  "kernelspec": {
   "display_name": "Python 3 (ipykernel)",
   "language": "python",
   "name": "python3"
  },
  "language_info": {
   "codemirror_mode": {
    "name": "ipython",
    "version": 3
   },
   "file_extension": ".py",
   "mimetype": "text/x-python",
   "name": "python",
   "nbconvert_exporter": "python",
   "pygments_lexer": "ipython3",
   "version": "3.9.7"
  }
 },
 "nbformat": 4,
 "nbformat_minor": 5
}
