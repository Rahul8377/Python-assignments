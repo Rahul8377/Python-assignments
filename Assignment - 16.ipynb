{
 "cells": [
  {
   "cell_type": "markdown",
   "id": "428819e2",
   "metadata": {},
   "source": [
    "# Assignment - 16"
   ]
  },
  {
   "cell_type": "markdown",
   "id": "9c3fa1f5",
   "metadata": {},
   "source": [
    "1. Create a list called years_list, starting with the year of your birth, and each year thereafter until\n",
    "the year of your fifth birthday. For example, if you were born in 1980. the list would be years_list =\n",
    "[1980, 1981, 1982, 1983, 1984, 1985]."
   ]
  },
  {
   "cell_type": "markdown",
   "id": "030beb80",
   "metadata": {},
   "source": [
    "years_list = [i for i in range(1997,1997+6)]\n",
    "\n",
    "years_list"
   ]
  },
  {
   "cell_type": "markdown",
   "id": "18464733",
   "metadata": {},
   "source": [
    "# 2. In which year in years_list was your third birthday? Remember, you were 0 years of age for your first year."
   ]
  },
  {
   "cell_type": "markdown",
   "id": "6ed27215",
   "metadata": {},
   "source": [
    "\n",
    "years_list[3]"
   ]
  },
  {
   "cell_type": "markdown",
   "id": "8f8caaa1",
   "metadata": {},
   "source": [
    "# 3.In the years list, which year were you the oldest?"
   ]
  },
  {
   "cell_type": "markdown",
   "id": "6ca8c087",
   "metadata": {},
   "source": [
    "max(years_list)"
   ]
  },
  {
   "cell_type": "markdown",
   "id": "16593657",
   "metadata": {},
   "source": [
    "# 4. Make a list called things with these three strings as elements: &quot;mozzarella&quot;, &quot;cinderella&quot;, &quot;salmonella&quot;."
   ]
  },
  {
   "cell_type": "markdown",
   "id": "dfe35f1c",
   "metadata": {},
   "source": [
    "things = list(['mozzarella', 'cinderella','salmonella'])\n",
    "\n",
    "things"
   ]
  },
  {
   "cell_type": "markdown",
   "id": "d31e9d27",
   "metadata": {},
   "source": [
    "# 5. Capitalize the element in things that refers to a person and then print the list. Did it change the element in the list?"
   ]
  },
  {
   "cell_type": "markdown",
   "id": "f0ac6528",
   "metadata": {},
   "source": [
    "for i in things:\n",
    "\n",
    "    print(i.capitalize())\n",
    "    \n",
    "things\n",
    "\n",
    "#Capitalize() will not update the list original values."
   ]
  },
  {
   "cell_type": "markdown",
   "id": "0c83f1ab",
   "metadata": {},
   "source": [
    "# 6. Make a surprise list with the elements &quot;Groucho,&quot; &quot;Chico,&quot; and &quot;Harpo.&quot;"
   ]
  },
  {
   "cell_type": "markdown",
   "id": "f2058f17",
   "metadata": {},
   "source": [
    "surprise_list = [\"Groucho\", \"Chico\", \"Harpo\"]\n",
    "\n",
    "surprise_list\n",
    "     "
   ]
  },
  {
   "cell_type": "markdown",
   "id": "e677c90e",
   "metadata": {},
   "source": [
    "# 7. Lowercase the last element of the surprise list, reverse it, and then capitalize it."
   ]
  },
  {
   "cell_type": "markdown",
   "id": "b396fa96",
   "metadata": {},
   "source": [
    "surprise_list[-1].lower()"
   ]
  },
  {
   "cell_type": "markdown",
   "id": "96f54f50",
   "metadata": {},
   "source": [
    "surprise_list[-1][::-1]"
   ]
  },
  {
   "cell_type": "markdown",
   "id": "6387e634",
   "metadata": {},
   "source": [
    "\n",
    "surprise_list[-1][::-1].upper()"
   ]
  },
  {
   "cell_type": "markdown",
   "id": "41ff5ab4",
   "metadata": {},
   "source": [
    "# 8. Make an English-to-French dictionary called e2f and print it. Here are your starter words: dog is chien, cat is chat, and walrus is morse."
   ]
  },
  {
   "cell_type": "markdown",
   "id": "3f01f40e",
   "metadata": {},
   "source": [
    "e2f = {'dog':'chien','cat':'chat','walrus':'morse'}\n"
   ]
  },
  {
   "cell_type": "markdown",
   "id": "7c327260",
   "metadata": {},
   "source": [
    "# 9. Write the French word for walrus in your three-word dictionary e2f."
   ]
  },
  {
   "cell_type": "markdown",
   "id": "21861e06",
   "metadata": {},
   "source": [
    "e2f['walrus']"
   ]
  },
  {
   "cell_type": "markdown",
   "id": "dec999bc",
   "metadata": {},
   "source": [
    "# 10. Make a French-to-English dictionary called f2e from e2f. Use the items method."
   ]
  },
  {
   "cell_type": "markdown",
   "id": "04c7c9a7",
   "metadata": {},
   "source": [
    "f2e = dict((key,value) for value,key in e2f.items())\n",
    "\n",
    "f2e\n",
    "     "
   ]
  },
  {
   "cell_type": "markdown",
   "id": "97e39e54",
   "metadata": {},
   "source": [
    "# 11. Print the English version of the French word chien using f2e."
   ]
  },
  {
   "cell_type": "markdown",
   "id": "208260f3",
   "metadata": {},
   "source": [
    "f2e['chien']"
   ]
  },
  {
   "cell_type": "markdown",
   "id": "6772cd72",
   "metadata": {},
   "source": [
    "# 12. Make and print a set of English words from the keys in e2f."
   ]
  },
  {
   "cell_type": "markdown",
   "id": "890d22b9",
   "metadata": {},
   "source": [
    "e2f.keys()"
   ]
  },
  {
   "cell_type": "markdown",
   "id": "42fd44b5",
   "metadata": {},
   "source": [
    "# 13. Make a multilevel dictionary called life. Use these strings for the topmost keys: &#39;animals&#39;, &#39;plants&#39;, and &#39;other&#39;. Make the &#39;animals&#39; key refer to another dictionary with the keys &#39;cats&#39;, &#39;octopi&#39;, and &#39;emus&#39;. Make the &#39;cats&#39; key refer to a list of strings with the values &#39;Henri&#39;, &#39;Grumpy&#39;, and &#39;Lucy&#39;. Make all the other keys refer to empty dictionaries."
   ]
  },
  {
   "cell_type": "markdown",
   "id": "31e175ff",
   "metadata": {},
   "source": [
    "life ={'animals':{'cat':['Henri', 'Grumpy', 'Lucy'], 'octopi':'', 'emus':''},\n",
    "       \n",
    "       'plants' :'',\n",
    "       \n",
    "       'other' :'' }\n",
    "\n",
    "life\n"
   ]
  },
  {
   "cell_type": "markdown",
   "id": "a5d0d27a",
   "metadata": {},
   "source": [
    "# 14. Print the top-level keys of life."
   ]
  },
  {
   "cell_type": "markdown",
   "id": "0d3f56c1",
   "metadata": {},
   "source": [
    "life.keys()"
   ]
  },
  {
   "cell_type": "markdown",
   "id": "c3670434",
   "metadata": {},
   "source": [
    "# 15. Print the keys for life[&#39;animals&#39;]."
   ]
  },
  {
   "cell_type": "markdown",
   "id": "0577140b",
   "metadata": {},
   "source": [
    "life['animals'].keys()"
   ]
  },
  {
   "cell_type": "markdown",
   "id": "cfb8a2dc",
   "metadata": {},
   "source": [
    "# 16. Print the values for life[&#39;animals&#39;][&#39;cats&#39;]"
   ]
  },
  {
   "cell_type": "markdown",
   "id": "fc7f69ae",
   "metadata": {},
   "source": [
    "life['animals']['cat']"
   ]
  },
  {
   "cell_type": "code",
   "execution_count": null,
   "id": "35905fb4",
   "metadata": {},
   "outputs": [],
   "source": []
  }
 ],
 "metadata": {
  "kernelspec": {
   "display_name": "Python 3 (ipykernel)",
   "language": "python",
   "name": "python3"
  },
  "language_info": {
   "codemirror_mode": {
    "name": "ipython",
    "version": 3
   },
   "file_extension": ".py",
   "mimetype": "text/x-python",
   "name": "python",
   "nbconvert_exporter": "python",
   "pygments_lexer": "ipython3",
   "version": "3.9.7"
  }
 },
 "nbformat": 4,
 "nbformat_minor": 5
}
